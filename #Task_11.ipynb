{
  "nbformat": 4,
  "nbformat_minor": 0,
  "metadata": {
    "colab": {
      "name": "#Task_11.ipynb",
      "provenance": [],
      "collapsed_sections": [],
      "mount_file_id": "1k1aj4Gk8DnLuDBL44sQj_789gCknBdc2",
      "authorship_tag": "ABX9TyNSTBJ11OxxLZj0YeJt9ad9",
      "include_colab_link": true
    },
    "kernelspec": {
      "name": "python3",
      "display_name": "Python 3"
    },
    "language_info": {
      "name": "python"
    }
  },
  "cells": [
    {
      "cell_type": "markdown",
      "metadata": {
        "id": "view-in-github",
        "colab_type": "text"
      },
      "source": [
        "<a href=\"https://colab.research.google.com/github/helenross636/magic_season/blob/main/%23Task_11.ipynb\" target=\"_parent\"><img src=\"https://colab.research.google.com/assets/colab-badge.svg\" alt=\"Open In Colab\"/></a>"
      ]
    },
    {
      "cell_type": "code",
      "execution_count": 2,
      "metadata": {
        "id": "s0z8b9hsH-rX"
      },
      "outputs": [],
      "source": [
        "import numpy as np\n",
        "from keras.datasets import mnist\n",
        "from keras.models import Sequential\n",
        "from keras.layers import Dense\n",
        "from keras.utils import np_utils\n",
        "import matplotlib.pyplot as plt\n",
        "from tensorflow import keras\n",
        "import tensorflow as tf\n",
        "from tensorflow.keras import layers\n",
        "import time"
      ]
    },
    {
      "cell_type": "markdown",
      "source": [
        "Загружаем модель на 30 нейронов и тестовую выборку."
      ],
      "metadata": {
        "id": "INIXL0kUOFXk"
      }
    },
    {
      "cell_type": "code",
      "source": [
        "#model = keras.models.load_model('/content/model1.h5')\n",
        "model = keras.models.load_model('/content/drive/MyDrive/Colab Notebooks/models/model1.h5')\n",
        "\n",
        "(X_train, y_train), (X_test, y_test) = mnist.load_data()\n",
        "# Преобразование размерности изображений\n",
        "X_train = X_train.reshape(60000, 784)\n",
        "X_test = X_test.reshape(10000, 784)\n",
        "# Нормализация данных\n",
        "X_train = X_train.astype('float32')\n",
        "X_test = X_test.astype('float32')\n",
        "X_train /= 255\n",
        "X_test /= 255\n",
        "\n",
        "# Преобразуем метки в категории\n",
        "Y_train = np_utils.to_categorical(y_train, 10)\n",
        "Y_test = np_utils.to_categorical(y_test, 10)"
      ],
      "metadata": {
        "id": "Tn905qUzIEzu",
        "colab": {
          "base_uri": "https://localhost:8080/"
        },
        "outputId": "546cd6c5-8d49-469b-b4b1-c4ab453f6665"
      },
      "execution_count": 5,
      "outputs": [
        {
          "output_type": "stream",
          "name": "stdout",
          "text": [
            "Downloading data from https://storage.googleapis.com/tensorflow/tf-keras-datasets/mnist.npz\n",
            "11493376/11490434 [==============================] - 0s 0us/step\n",
            "11501568/11490434 [==============================] - 0s 0us/step\n"
          ]
        }
      ]
    },
    {
      "cell_type": "code",
      "source": [
        "#загружаем веса модели на 30\n",
        "w1 = np.transpose(model.layers[2].kernel)\n",
        "(y1,z1) = w1.shape\n",
        "print(w1.shape)\n",
        "bias1 =  np.transpose(model.layers[2].bias)\n",
        "print(bias1.shape)\n",
        "w2 = (model.layers[3].kernel)\n",
        "bias2 =  (model.layers[3].bias)\n",
        "(y2,z2) = w2.shape\n",
        "print(w2.shape)\n",
        "print(bias2.shape)\n"
      ],
      "metadata": {
        "colab": {
          "base_uri": "https://localhost:8080/"
        },
        "id": "Uz3B0Z8BJNFZ",
        "outputId": "d0944108-8052-4ca7-8729-3c3fdce1b57d"
      },
      "execution_count": 6,
      "outputs": [
        {
          "output_type": "stream",
          "name": "stdout",
          "text": [
            "(30, 784)\n",
            "(30,)\n",
            "(30, 10)\n",
            "(10,)\n"
          ]
        }
      ]
    },
    {
      "cell_type": "code",
      "source": [
        "#создаем матрицу весов в 50 раз больше\n",
        "#input layer[2]\n",
        "w50_1 = np.zeros((y1*50,z1)) #kernel\n",
        "print(w50_1.shape)\n",
        "b50_1 = np.zeros(len(bias1)*50)\n",
        "print(b50_1.shape)\n",
        "#output layer[3]\n",
        "w50_2 = np.zeros((y2*50,z2)) #kernel\n",
        "print(w50_2.shape)\n",
        "b50_2 = np.zeros(10)\n",
        "print(b50_2.shape)\n"
      ],
      "metadata": {
        "colab": {
          "base_uri": "https://localhost:8080/"
        },
        "id": "DvNYeGNAJoRv",
        "outputId": "7fde3fc7-1012-4a79-d249-5fd8116bd1c9"
      },
      "execution_count": 7,
      "outputs": [
        {
          "output_type": "stream",
          "name": "stdout",
          "text": [
            "(1500, 784)\n",
            "(1500,)\n",
            "(1500, 10)\n",
            "(10,)\n"
          ]
        }
      ]
    },
    {
      "cell_type": "code",
      "source": [
        "#создаем модель в 50 раз больше\n",
        "inputs = layers.Input(shape = (784,), name = \"in_layer\")\n",
        "x = layers.Flatten()(inputs)\n",
        "x = layers.Dense(y1*50, activation=\"relu\", name = \"hidden_layer\")(x)\n",
        "outputs = layers.Dense(10, activation=\"softmax\", name = \"out_layer\")(x)\n",
        "model_50 = tf.keras.Model(inputs = inputs, outputs = outputs)\n",
        "model_50.compile(loss=\"categorical_crossentropy\", optimizer=\"adam\", metrics=[\"accuracy\"])\n",
        "\n",
        "print(model_50.summary())"
      ],
      "metadata": {
        "colab": {
          "base_uri": "https://localhost:8080/"
        },
        "id": "0T86dXL-LFyO",
        "outputId": "49f58221-61ab-4d2a-ac9a-cc1f34b29912"
      },
      "execution_count": 8,
      "outputs": [
        {
          "output_type": "stream",
          "name": "stdout",
          "text": [
            "Model: \"model\"\n",
            "_________________________________________________________________\n",
            " Layer (type)                Output Shape              Param #   \n",
            "=================================================================\n",
            " in_layer (InputLayer)       [(None, 784)]             0         \n",
            "                                                                 \n",
            " flatten (Flatten)           (None, 784)               0         \n",
            "                                                                 \n",
            " hidden_layer (Dense)        (None, 1500)              1177500   \n",
            "                                                                 \n",
            " out_layer (Dense)           (None, 10)                15010     \n",
            "                                                                 \n",
            "=================================================================\n",
            "Total params: 1,192,510\n",
            "Trainable params: 1,192,510\n",
            "Non-trainable params: 0\n",
            "_________________________________________________________________\n",
            "None\n"
          ]
        }
      ]
    },
    {
      "cell_type": "code",
      "source": [
        "#w50 = np.transpose(model_50.layers[2].kernel)\n",
        "#(yy,zz) = w50.shape\n",
        "#print(w50[0])"
      ],
      "metadata": {
        "id": "53o1Kk8LNDAC"
      },
      "execution_count": null,
      "outputs": []
    },
    {
      "cell_type": "code",
      "source": [
        "#заполняем веса для бОльшей модели\n",
        "for i in range(y1*50):\n",
        "  if i<30: j = i\n",
        "  else: j = i%30\n",
        "  w50_1[i] = w1[j]\n",
        "\n",
        "for i in range(y2*50):\n",
        "  if i<30: j = i\n",
        "  else: j = i%30\n",
        "  w50_2[i] = w2[j]\n",
        "\n",
        "for i in range(len(bias1)*50):\n",
        "  if i<30: j = i\n",
        "  else: j = i%30\n",
        "  b50_1[i] = bias1[j]\n",
        "\n",
        "b50_2 = bias2\n",
        "#делим выходные веса на 50\n",
        "w50_2 = w50_2/50"
      ],
      "metadata": {
        "id": "f5ywq1hEN9DH"
      },
      "execution_count": 9,
      "outputs": []
    },
    {
      "cell_type": "code",
      "source": [
        "#маленькая проверочка\n",
        "print(w50[0])\n",
        "print('------------------------------------------------------------------------------')\n",
        "print(w50[30])"
      ],
      "metadata": {
        "id": "JymN9YbfWzd9"
      },
      "execution_count": null,
      "outputs": []
    },
    {
      "cell_type": "code",
      "source": [
        "#заполняем модель\n",
        "#model_50.set_weights(w50)\n",
        "print('input layer kernel shape: ',model_50.layers[2].get_weights()[0].shape)\n",
        "print('input layer bias shape: ',model_50.layers[2].get_weights()[1].shape)\n",
        "w50_1T = np.transpose(w50_1)\n",
        "b50_1T = np.transpose(b50_1)\n",
        "print('w50_1T shape:', w50_1T.shape)\n",
        "print('b50_1T shape:', b50_1T.shape)\n",
        "model_50.layers[2].set_weights([w50_1T, b50_1T])\n",
        "print('output layer kernel shape: ',model_50.layers[3].get_weights()[0].shape)\n",
        "print('output layer bias shape: ',model_50.layers[3].get_weights()[1].shape)\n",
        "w50_2T = (w50_2)\n",
        "b50_2T = np.transpose(b50_2)\n",
        "print('w50_2T shape:', w50_2T.shape)\n",
        "print('b50_2T shape:', b50_2T.shape)\n",
        "model_50.layers[3].set_weights([w50_2T, b50_2T])\n"
      ],
      "metadata": {
        "colab": {
          "base_uri": "https://localhost:8080/"
        },
        "id": "Df1Yqg4LQ2PO",
        "outputId": "9c0356e2-cae7-42dc-d919-7e528a8857e0"
      },
      "execution_count": 10,
      "outputs": [
        {
          "output_type": "stream",
          "name": "stdout",
          "text": [
            "input layer kernel shape:  (784, 1500)\n",
            "input layer bias shape:  (1500,)\n",
            "w50_1T shape: (784, 1500)\n",
            "b50_1T shape: (1500,)\n",
            "output layer kernel shape:  (1500, 10)\n",
            "output layer bias shape:  (10,)\n",
            "w50_2T shape: (1500, 10)\n",
            "b50_2T shape: (10,)\n"
          ]
        }
      ]
    },
    {
      "cell_type": "code",
      "source": [
        "#смотрим результат\n",
        "scores = model_50.evaluate(X_test, Y_test, verbose=0);\n",
        "print(\"РАЗМНОЖЕННАЯ СЕТЬ. Точность работы на тестовых данных: %.2f%%\" % (scores[1]*100))  "
      ],
      "metadata": {
        "colab": {
          "base_uri": "https://localhost:8080/"
        },
        "id": "2Z9rosyiLFoT",
        "outputId": "7a6d50c9-7219-4b0a-dbda-2e51edfa966b"
      },
      "execution_count": 11,
      "outputs": [
        {
          "output_type": "stream",
          "name": "stdout",
          "text": [
            "РАЗМНОЖЕННАЯ СЕТЬ. Точность работы на тестовых данных: 96.97%\n"
          ]
        }
      ]
    },
    {
      "cell_type": "code",
      "source": [
        "model2 = keras.models.load_model('/content/model2.h5')\n",
        "model3 = keras.models.load_model('/content/model3.h5')\n",
        "model4 = keras.models.load_model('/content/model4.h5')"
      ],
      "metadata": {
        "id": "Z0SkIWkjaq6W"
      },
      "execution_count": null,
      "outputs": []
    },
    {
      "cell_type": "code",
      "source": [
        "scores = model.evaluate(X_test, Y_test, verbose=0);\n",
        "print(\"ОРИГИНАЛЬНАЯ МОДЕЛЬ (30). Точность работы на тестовых данных: %.2f%%\" % (scores[1]*100))  \n",
        "print('-----------------------------------------------------------------------------')\n",
        "scores = model2.evaluate(X_test, Y_test, verbose=0);\n",
        "print(\"model2 (1500). Точность работы на тестовых данных: %.2f%%\" % (scores[1]*100)) \n",
        "print('-----------------------------------------------------------------------------')\n",
        "scores = model3.evaluate(X_test, Y_test, verbose=0);\n",
        "print(\"model3 (5000). Точность работы на тестовых данных: %.2f%%\" % (scores[1]*100)) \n",
        "print('-----------------------------------------------------------------------------')\n",
        "scores = model4.evaluate(X_test, Y_test, verbose=0);\n",
        "print(\"model4 (10000). Точность работы на тестовых данных: %.2f%%\" % (scores[1]*100)) \n",
        "print('-----------------------------------------------------------------------------')\n"
      ],
      "metadata": {
        "colab": {
          "base_uri": "https://localhost:8080/"
        },
        "id": "Lrsv6hlZa5k5",
        "outputId": "7a077a72-4755-4acc-b9e5-128443eca4e0"
      },
      "execution_count": null,
      "outputs": [
        {
          "output_type": "stream",
          "name": "stdout",
          "text": [
            "ОРИГИНАЛЬНАЯ МОДЕЛЬ (30). Точность работы на тестовых данных: 96.71%\n",
            "-----------------------------------------------------------------------------\n",
            "model2 (1500). Точность работы на тестовых данных: 98.30%\n",
            "-----------------------------------------------------------------------------\n",
            "model3 (5000). Точность работы на тестовых данных: 98.30%\n",
            "-----------------------------------------------------------------------------\n",
            "model4 (10000). Точность работы на тестовых данных: 98.38%\n",
            "-----------------------------------------------------------------------------\n"
          ]
        }
      ]
    }
  ]
}