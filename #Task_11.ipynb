{
  "nbformat": 4,
  "nbformat_minor": 0,
  "metadata": {
    "colab": {
      "name": "#Task_11.ipynb",
      "provenance": [],
      "collapsed_sections": [],
      "authorship_tag": "ABX9TyNwC39n9qaMWPPAojUrvriq",
      "include_colab_link": true
    },
    "kernelspec": {
      "name": "python3",
      "display_name": "Python 3"
    },
    "language_info": {
      "name": "python"
    }
  },
  "cells": [
    {
      "cell_type": "markdown",
      "metadata": {
        "id": "view-in-github",
        "colab_type": "text"
      },
      "source": [
        "<a href=\"https://colab.research.google.com/github/helenross636/magic_season/blob/main/%23Task_11.ipynb\" target=\"_parent\"><img src=\"https://colab.research.google.com/assets/colab-badge.svg\" alt=\"Open In Colab\"/></a>"
      ]
    },
    {
      "cell_type": "code",
      "execution_count": 11,
      "metadata": {
        "id": "s0z8b9hsH-rX"
      },
      "outputs": [],
      "source": [
        "import numpy as np\n",
        "from keras.datasets import mnist\n",
        "from keras.models import Sequential\n",
        "from keras.layers import Dense\n",
        "from keras.utils import np_utils\n",
        "import matplotlib.pyplot as plt\n",
        "from tensorflow import keras\n",
        "import tensorflow as tf\n",
        "from tensorflow.keras import layers\n",
        "import time"
      ]
    },
    {
      "cell_type": "markdown",
      "source": [
        "Загружаем модель на 30 нейронов и тестовую выборку."
      ],
      "metadata": {
        "id": "INIXL0kUOFXk"
      }
    },
    {
      "cell_type": "code",
      "source": [
        "model = keras.models.load_model('/content/model1.h5')\n",
        "\n",
        "(X_train, y_train), (X_test, y_test) = mnist.load_data()\n",
        "# Преобразование размерности изображений\n",
        "X_train = X_train.reshape(60000, 784)\n",
        "X_test = X_test.reshape(10000, 784)\n",
        "# Нормализация данных\n",
        "X_train = X_train.astype('float32')\n",
        "X_test = X_test.astype('float32')\n",
        "X_train /= 255\n",
        "X_test /= 255\n",
        "\n",
        "# Преобразуем метки в категории\n",
        "Y_train = np_utils.to_categorical(y_train, 10)\n",
        "Y_test = np_utils.to_categorical(y_test, 10)"
      ],
      "metadata": {
        "id": "Tn905qUzIEzu"
      },
      "execution_count": 49,
      "outputs": []
    },
    {
      "cell_type": "code",
      "source": [
        "#загружаем веса модели на 30\n",
        "w = np.transpose(model.layers[2].kernel)\n",
        "(y,z) = w.shape\n",
        "print(w.shape)"
      ],
      "metadata": {
        "colab": {
          "base_uri": "https://localhost:8080/"
        },
        "id": "Uz3B0Z8BJNFZ",
        "outputId": "f3d4522a-620a-4997-ca0d-3df250182d25"
      },
      "execution_count": 6,
      "outputs": [
        {
          "output_type": "stream",
          "name": "stdout",
          "text": [
            "(30, 784)\n"
          ]
        }
      ]
    },
    {
      "cell_type": "code",
      "source": [
        "#создаем матрицу в 50 раз больше\n",
        "w50 = np.zeros((y*50,z))\n",
        "print(w50.shape)\n",
        "#print(w50[0])"
      ],
      "metadata": {
        "colab": {
          "base_uri": "https://localhost:8080/"
        },
        "id": "DvNYeGNAJoRv",
        "outputId": "ac6a89a0-86d2-41b6-8bca-5b70c22d02a6"
      },
      "execution_count": 23,
      "outputs": [
        {
          "output_type": "stream",
          "name": "stdout",
          "text": [
            "(1500, 784)\n"
          ]
        }
      ]
    },
    {
      "cell_type": "code",
      "source": [
        "#создаем модель в 50 раз больше\n",
        "inputs = layers.Input(shape = (784,), name = \"in_layer\")\n",
        "x = layers.Flatten()(inputs)\n",
        "x = layers.Dense(y*50, activation=\"relu\", name = \"hidden_layer\")(x)\n",
        "outputs = layers.Dense(10, activation=\"softmax\", name = \"out_layer\")(x)\n",
        "model_50 = tf.keras.Model(inputs = inputs, outputs = outputs)\n",
        "model_50.compile(loss=\"categorical_crossentropy\", optimizer=\"adam\", metrics=[\"accuracy\"])\n",
        "\n",
        "print(model_50.summary())"
      ],
      "metadata": {
        "colab": {
          "base_uri": "https://localhost:8080/"
        },
        "id": "0T86dXL-LFyO",
        "outputId": "e483a670-a47a-4c35-ad4d-4cca02bca670"
      },
      "execution_count": 29,
      "outputs": [
        {
          "output_type": "stream",
          "name": "stdout",
          "text": [
            "Model: \"model_3\"\n",
            "_________________________________________________________________\n",
            " Layer (type)                Output Shape              Param #   \n",
            "=================================================================\n",
            " in_layer (InputLayer)       [(None, 784)]             0         \n",
            "                                                                 \n",
            " flatten_3 (Flatten)         (None, 784)               0         \n",
            "                                                                 \n",
            " hidden_layer (Dense)        (None, 1500)              1177500   \n",
            "                                                                 \n",
            " out_layer (Dense)           (None, 10)                15010     \n",
            "                                                                 \n",
            "=================================================================\n",
            "Total params: 1,192,510\n",
            "Trainable params: 1,192,510\n",
            "Non-trainable params: 0\n",
            "_________________________________________________________________\n",
            "None\n"
          ]
        }
      ]
    },
    {
      "cell_type": "code",
      "source": [
        "#w50 = np.transpose(model_50.layers[2].kernel)\n",
        "#(yy,zz) = w50.shape\n",
        "#print(w50[0])"
      ],
      "metadata": {
        "id": "53o1Kk8LNDAC"
      },
      "execution_count": 25,
      "outputs": []
    },
    {
      "cell_type": "code",
      "source": [
        "#заполняем веса для бОльшей модели\n",
        "for i in range(y*50):\n",
        "  if i<30: j = i\n",
        "  else: j = i%30\n",
        "  w50[i] = w[j]\n",
        "#делим все веса на 50\n",
        "w50 = w50/50"
      ],
      "metadata": {
        "id": "f5ywq1hEN9DH"
      },
      "execution_count": 44,
      "outputs": []
    },
    {
      "cell_type": "code",
      "source": [
        "#маленькая проверочка\n",
        "print(w50[0])\n",
        "print('------------------------------------------------------------------------------')\n",
        "print(w50[30])"
      ],
      "metadata": {
        "id": "JymN9YbfWzd9"
      },
      "execution_count": null,
      "outputs": []
    },
    {
      "cell_type": "code",
      "source": [
        "#заполняем модель\n",
        "#model_50.set_weights(w50)\n",
        "print(model_50.layers[2].get_weights()[0].shape)\n",
        "w50T = np.transpose(w50)\n",
        "print('w50T shape:', w50T.shape)\n",
        "model_50.layers[2].set_weights([w50T, np.ones(model_50.layers[2].get_weights()[1].shape)])"
      ],
      "metadata": {
        "colab": {
          "base_uri": "https://localhost:8080/"
        },
        "id": "Df1Yqg4LQ2PO",
        "outputId": "e83fab74-1a91-441e-bb27-3b1008fce94b"
      },
      "execution_count": 45,
      "outputs": [
        {
          "output_type": "stream",
          "name": "stdout",
          "text": [
            "(784, 1500)\n",
            "w50T shape: (784, 1500)\n"
          ]
        }
      ]
    },
    {
      "cell_type": "code",
      "source": [
        "#смотрим результат\n",
        "scores = model_50.evaluate(X_test, Y_test, verbose=0);\n",
        "print(\"РАЗМНОЖЕННАЯ СЕТЬ. Точность работы на тестовых данных: %.2f%%\" % (scores[1]*100))  "
      ],
      "metadata": {
        "colab": {
          "base_uri": "https://localhost:8080/"
        },
        "id": "2Z9rosyiLFoT",
        "outputId": "46fe8df7-8156-440d-ca72-2bdac57201f1"
      },
      "execution_count": 60,
      "outputs": [
        {
          "output_type": "stream",
          "name": "stdout",
          "text": [
            "РАЗМНОЖЕННАЯ СЕТЬ. Точность работы на тестовых данных: 9.82%\n"
          ]
        }
      ]
    },
    {
      "cell_type": "code",
      "source": [
        "model2 = keras.models.load_model('/content/model2.h5')\n",
        "model3 = keras.models.load_model('/content/model3.h5')\n",
        "model4 = keras.models.load_model('/content/model4.h5')"
      ],
      "metadata": {
        "id": "Z0SkIWkjaq6W"
      },
      "execution_count": 53,
      "outputs": []
    },
    {
      "cell_type": "code",
      "source": [
        "scores = model.evaluate(X_test, Y_test, verbose=0);\n",
        "print(\"ОРИГИНАЛЬНАЯ МОДЕЛЬ (30). Точность работы на тестовых данных: %.2f%%\" % (scores[1]*100))  \n",
        "print('-----------------------------------------------------------------------------')\n",
        "scores = model2.evaluate(X_test, Y_test, verbose=0);\n",
        "print(\"model2 (1500). Точность работы на тестовых данных: %.2f%%\" % (scores[1]*100)) \n",
        "print('-----------------------------------------------------------------------------')\n",
        "scores = model3.evaluate(X_test, Y_test, verbose=0);\n",
        "print(\"model3 (5000). Точность работы на тестовых данных: %.2f%%\" % (scores[1]*100)) \n",
        "print('-----------------------------------------------------------------------------')\n",
        "scores = model4.evaluate(X_test, Y_test, verbose=0);\n",
        "print(\"model4 (10000). Точность работы на тестовых данных: %.2f%%\" % (scores[1]*100)) \n",
        "print('-----------------------------------------------------------------------------')\n"
      ],
      "metadata": {
        "colab": {
          "base_uri": "https://localhost:8080/"
        },
        "id": "Lrsv6hlZa5k5",
        "outputId": "7a077a72-4755-4acc-b9e5-128443eca4e0"
      },
      "execution_count": 61,
      "outputs": [
        {
          "output_type": "stream",
          "name": "stdout",
          "text": [
            "ОРИГИНАЛЬНАЯ МОДЕЛЬ (30). Точность работы на тестовых данных: 96.71%\n",
            "-----------------------------------------------------------------------------\n",
            "model2 (1500). Точность работы на тестовых данных: 98.30%\n",
            "-----------------------------------------------------------------------------\n",
            "model3 (5000). Точность работы на тестовых данных: 98.30%\n",
            "-----------------------------------------------------------------------------\n",
            "model4 (10000). Точность работы на тестовых данных: 98.38%\n",
            "-----------------------------------------------------------------------------\n"
          ]
        }
      ]
    }
  ]
}