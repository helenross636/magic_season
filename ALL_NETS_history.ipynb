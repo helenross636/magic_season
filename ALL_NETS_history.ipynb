{
  "nbformat": 4,
  "nbformat_minor": 0,
  "metadata": {
    "colab": {
      "name": "ALL_NETS.ipynb",
      "provenance": [],
      "authorship_tag": "ABX9TyM6fmO5bhhi9LGGgVnW6s96",
      "include_colab_link": true
    },
    "kernelspec": {
      "name": "python3",
      "display_name": "Python 3"
    },
    "language_info": {
      "name": "python"
    }
  },
  "cells": [
    {
      "cell_type": "markdown",
      "metadata": {
        "id": "view-in-github",
        "colab_type": "text"
      },
      "source": [
        "<a href=\"https://colab.research.google.com/github/helenross636/magic_season/blob/main/ALL_NETS_history.ipynb\" target=\"_parent\"><img src=\"https://colab.research.google.com/assets/colab-badge.svg\" alt=\"Open In Colab\"/></a>"
      ]
    },
    {
      "cell_type": "code",
      "execution_count": 1,
      "metadata": {
        "id": "azstYevGyFja"
      },
      "outputs": [],
      "source": [
        "import numpy as np\n",
        "from keras.datasets import mnist\n",
        "from keras.models import Sequential\n",
        "from keras.layers import Dense\n",
        "from keras.utils import np_utils\n",
        "import matplotlib.pyplot as plt\n",
        "from tensorflow import keras"
      ]
    },
    {
      "cell_type": "code",
      "source": [
        "# Устанавливаем seed для повторяемости результатов\n",
        "np.random.seed(42)\n",
        "# Загружаем данные\n",
        "(X_train, y_train), (X_test, y_test) = mnist.load_data()\n",
        "\n",
        "# Преобразование размерности изображений\n",
        "X_train = X_train.reshape(60000, 784)\n",
        "X_test = X_test.reshape(10000, 784)\n",
        "# Нормализация данных\n",
        "X_train = X_train.astype('float32')\n",
        "X_test = X_test.astype('float32')\n",
        "X_train /= 255\n",
        "X_test /= 255\n",
        "\n",
        "# Преобразуем метки в категории\n",
        "Y_train = np_utils.to_categorical(y_train, 10)\n",
        "Y_test = np_utils.to_categorical(y_test, 10)"
      ],
      "metadata": {
        "colab": {
          "base_uri": "https://localhost:8080/"
        },
        "id": "YJLjyHrvyLCH",
        "outputId": "991482a6-ce0f-430e-ee10-0181da45d453"
      },
      "execution_count": 2,
      "outputs": [
        {
          "output_type": "stream",
          "name": "stdout",
          "text": [
            "Downloading data from https://storage.googleapis.com/tensorflow/tf-keras-datasets/mnist.npz\n",
            "11493376/11490434 [==============================] - 0s 0us/step\n",
            "11501568/11490434 [==============================] - 0s 0us/step\n"
          ]
        }
      ]
    },
    {
      "cell_type": "markdown",
      "source": [
        "# **30 НЕЙРОНОВ**"
      ],
      "metadata": {
        "id": "fVDXo4L5yOAR"
      }
    },
    {
      "cell_type": "code",
      "source": [
        "from keras.engine.input_layer import InputLayer\n",
        "# Создаем последовательную модель\n",
        "model = Sequential();\n",
        "# Добавляем уровни сети\n",
        "InputLayer(input_shape=(784,))\n",
        "#скрытый слой 15 нейронов\n",
        "model.add(Dense(30, activation=\"relu\", kernel_initializer=\"normal\"))\n",
        "#выходной слой 10 нейронов\n",
        "model.add(Dense(10, activation=\"softmax\", kernel_initializer=\"normal\"))\n",
        "\n",
        "#print(model3.summary())\n",
        "\n",
        "# Компилируем модель\n",
        "model.compile(loss=\"categorical_crossentropy\", optimizer=\"adam\", metrics=[\"accuracy\"])\n",
        "# Обучаем сеть\n",
        "#Batch size – количество обучающих примеров за одну итерацию.\n",
        "history = model.fit(X_train, Y_train, batch_size=128, epochs=300, validation_split=0.1);\n",
        "\n",
        "# Оцениваем качество обучения сети на тестовых данных\n",
        "scores = model.evaluate(X_test, Y_test, verbose=0);\n",
        "print(\"Точность работы на тестовых данных: %.2f%%\" % (scores[1]*100))"
      ],
      "metadata": {
        "colab": {
          "base_uri": "https://localhost:8080/"
        },
        "id": "zpZvbskkyLLb",
        "outputId": "df3986c7-b1ec-42cf-93d9-9501f34b0ec8"
      },
      "execution_count": 7,
      "outputs": [
        {
          "output_type": "stream",
          "name": "stdout",
          "text": [
            "Epoch 1/300\n",
            "422/422 [==============================] - 2s 3ms/step - loss: 0.6755 - accuracy: 0.8249 - val_loss: 0.2646 - val_accuracy: 0.9287\n",
            "Epoch 2/300\n",
            "422/422 [==============================] - 1s 3ms/step - loss: 0.2895 - accuracy: 0.9182 - val_loss: 0.2097 - val_accuracy: 0.9418\n",
            "Epoch 3/300\n",
            "422/422 [==============================] - 1s 3ms/step - loss: 0.2430 - accuracy: 0.9311 - val_loss: 0.1852 - val_accuracy: 0.9482\n",
            "Epoch 4/300\n",
            "422/422 [==============================] - 1s 3ms/step - loss: 0.2159 - accuracy: 0.9383 - val_loss: 0.1670 - val_accuracy: 0.9553\n",
            "Epoch 5/300\n",
            "422/422 [==============================] - 1s 3ms/step - loss: 0.1962 - accuracy: 0.9434 - val_loss: 0.1560 - val_accuracy: 0.9577\n",
            "Epoch 6/300\n",
            "422/422 [==============================] - 1s 3ms/step - loss: 0.1788 - accuracy: 0.9485 - val_loss: 0.1467 - val_accuracy: 0.9592\n",
            "Epoch 7/300\n",
            "422/422 [==============================] - 1s 3ms/step - loss: 0.1649 - accuracy: 0.9523 - val_loss: 0.1395 - val_accuracy: 0.9622\n",
            "Epoch 8/300\n",
            "422/422 [==============================] - 1s 3ms/step - loss: 0.1521 - accuracy: 0.9552 - val_loss: 0.1305 - val_accuracy: 0.9643\n",
            "Epoch 9/300\n",
            "422/422 [==============================] - 1s 3ms/step - loss: 0.1408 - accuracy: 0.9592 - val_loss: 0.1254 - val_accuracy: 0.9650\n",
            "Epoch 10/300\n",
            "422/422 [==============================] - 1s 3ms/step - loss: 0.1318 - accuracy: 0.9611 - val_loss: 0.1220 - val_accuracy: 0.9668\n",
            "Epoch 11/300\n",
            "422/422 [==============================] - 1s 3ms/step - loss: 0.1241 - accuracy: 0.9629 - val_loss: 0.1218 - val_accuracy: 0.9663\n",
            "Epoch 12/300\n",
            "422/422 [==============================] - 1s 3ms/step - loss: 0.1164 - accuracy: 0.9653 - val_loss: 0.1146 - val_accuracy: 0.9698\n",
            "Epoch 13/300\n",
            "422/422 [==============================] - 1s 3ms/step - loss: 0.1101 - accuracy: 0.9669 - val_loss: 0.1149 - val_accuracy: 0.9690\n",
            "Epoch 14/300\n",
            "422/422 [==============================] - 1s 3ms/step - loss: 0.1041 - accuracy: 0.9691 - val_loss: 0.1122 - val_accuracy: 0.9697\n",
            "Epoch 15/300\n",
            "422/422 [==============================] - 1s 3ms/step - loss: 0.0999 - accuracy: 0.9702 - val_loss: 0.1114 - val_accuracy: 0.9698\n",
            "Epoch 16/300\n",
            "422/422 [==============================] - 1s 3ms/step - loss: 0.0949 - accuracy: 0.9718 - val_loss: 0.1085 - val_accuracy: 0.9707\n",
            "Epoch 17/300\n",
            "422/422 [==============================] - 1s 3ms/step - loss: 0.0911 - accuracy: 0.9731 - val_loss: 0.1067 - val_accuracy: 0.9717\n",
            "Epoch 18/300\n",
            "422/422 [==============================] - 1s 3ms/step - loss: 0.0870 - accuracy: 0.9745 - val_loss: 0.1094 - val_accuracy: 0.9692\n",
            "Epoch 19/300\n",
            "422/422 [==============================] - 1s 3ms/step - loss: 0.0834 - accuracy: 0.9758 - val_loss: 0.1076 - val_accuracy: 0.9693\n",
            "Epoch 20/300\n",
            "422/422 [==============================] - 1s 3ms/step - loss: 0.0806 - accuracy: 0.9762 - val_loss: 0.1080 - val_accuracy: 0.9707\n",
            "Epoch 21/300\n",
            "422/422 [==============================] - 1s 3ms/step - loss: 0.0773 - accuracy: 0.9773 - val_loss: 0.1051 - val_accuracy: 0.9717\n",
            "Epoch 22/300\n",
            "422/422 [==============================] - 2s 4ms/step - loss: 0.0740 - accuracy: 0.9784 - val_loss: 0.1070 - val_accuracy: 0.9697\n",
            "Epoch 23/300\n",
            "422/422 [==============================] - 1s 3ms/step - loss: 0.0724 - accuracy: 0.9785 - val_loss: 0.1037 - val_accuracy: 0.9722\n",
            "Epoch 24/300\n",
            "422/422 [==============================] - 1s 3ms/step - loss: 0.0689 - accuracy: 0.9799 - val_loss: 0.1040 - val_accuracy: 0.9700\n",
            "Epoch 25/300\n",
            "422/422 [==============================] - 1s 3ms/step - loss: 0.0674 - accuracy: 0.9803 - val_loss: 0.1052 - val_accuracy: 0.9710\n",
            "Epoch 26/300\n",
            "422/422 [==============================] - 1s 3ms/step - loss: 0.0646 - accuracy: 0.9814 - val_loss: 0.1069 - val_accuracy: 0.9718\n",
            "Epoch 27/300\n",
            "422/422 [==============================] - 1s 3ms/step - loss: 0.0624 - accuracy: 0.9819 - val_loss: 0.1060 - val_accuracy: 0.9710\n",
            "Epoch 28/300\n",
            "422/422 [==============================] - 1s 2ms/step - loss: 0.0609 - accuracy: 0.9827 - val_loss: 0.1061 - val_accuracy: 0.9703\n",
            "Epoch 29/300\n",
            "422/422 [==============================] - 1s 2ms/step - loss: 0.0590 - accuracy: 0.9829 - val_loss: 0.1094 - val_accuracy: 0.9683\n",
            "Epoch 30/300\n",
            "422/422 [==============================] - 1s 3ms/step - loss: 0.0569 - accuracy: 0.9834 - val_loss: 0.1079 - val_accuracy: 0.9693\n",
            "Epoch 31/300\n",
            "422/422 [==============================] - 1s 3ms/step - loss: 0.0544 - accuracy: 0.9844 - val_loss: 0.1085 - val_accuracy: 0.9712\n",
            "Epoch 32/300\n",
            "422/422 [==============================] - 1s 2ms/step - loss: 0.0536 - accuracy: 0.9845 - val_loss: 0.1108 - val_accuracy: 0.9695\n",
            "Epoch 33/300\n",
            "422/422 [==============================] - 1s 2ms/step - loss: 0.0521 - accuracy: 0.9850 - val_loss: 0.1078 - val_accuracy: 0.9710\n",
            "Epoch 34/300\n",
            "422/422 [==============================] - 1s 3ms/step - loss: 0.0499 - accuracy: 0.9860 - val_loss: 0.1114 - val_accuracy: 0.9700\n",
            "Epoch 35/300\n",
            "422/422 [==============================] - 1s 3ms/step - loss: 0.0486 - accuracy: 0.9863 - val_loss: 0.1114 - val_accuracy: 0.9703\n",
            "Epoch 36/300\n",
            "422/422 [==============================] - 1s 3ms/step - loss: 0.0470 - accuracy: 0.9866 - val_loss: 0.1106 - val_accuracy: 0.9717\n",
            "Epoch 37/300\n",
            "422/422 [==============================] - 1s 3ms/step - loss: 0.0463 - accuracy: 0.9864 - val_loss: 0.1158 - val_accuracy: 0.9695\n",
            "Epoch 38/300\n",
            "422/422 [==============================] - 1s 2ms/step - loss: 0.0446 - accuracy: 0.9874 - val_loss: 0.1156 - val_accuracy: 0.9690\n",
            "Epoch 39/300\n",
            "422/422 [==============================] - 1s 3ms/step - loss: 0.0432 - accuracy: 0.9875 - val_loss: 0.1178 - val_accuracy: 0.9673\n",
            "Epoch 40/300\n",
            "422/422 [==============================] - 1s 3ms/step - loss: 0.0421 - accuracy: 0.9879 - val_loss: 0.1156 - val_accuracy: 0.9703\n",
            "Epoch 41/300\n",
            "422/422 [==============================] - 1s 2ms/step - loss: 0.0406 - accuracy: 0.9886 - val_loss: 0.1148 - val_accuracy: 0.9697\n",
            "Epoch 42/300\n",
            "422/422 [==============================] - 1s 3ms/step - loss: 0.0389 - accuracy: 0.9892 - val_loss: 0.1185 - val_accuracy: 0.9695\n",
            "Epoch 43/300\n",
            "422/422 [==============================] - 1s 3ms/step - loss: 0.0380 - accuracy: 0.9894 - val_loss: 0.1184 - val_accuracy: 0.9677\n",
            "Epoch 44/300\n",
            "422/422 [==============================] - 1s 3ms/step - loss: 0.0370 - accuracy: 0.9896 - val_loss: 0.1182 - val_accuracy: 0.9700\n",
            "Epoch 45/300\n",
            "422/422 [==============================] - 1s 3ms/step - loss: 0.0362 - accuracy: 0.9901 - val_loss: 0.1209 - val_accuracy: 0.9690\n",
            "Epoch 46/300\n",
            "422/422 [==============================] - 1s 3ms/step - loss: 0.0343 - accuracy: 0.9905 - val_loss: 0.1205 - val_accuracy: 0.9678\n",
            "Epoch 47/300\n",
            "422/422 [==============================] - 1s 3ms/step - loss: 0.0341 - accuracy: 0.9905 - val_loss: 0.1232 - val_accuracy: 0.9692\n",
            "Epoch 48/300\n",
            "422/422 [==============================] - 1s 2ms/step - loss: 0.0333 - accuracy: 0.9910 - val_loss: 0.1232 - val_accuracy: 0.9687\n",
            "Epoch 49/300\n",
            "422/422 [==============================] - 1s 2ms/step - loss: 0.0323 - accuracy: 0.9907 - val_loss: 0.1227 - val_accuracy: 0.9697\n",
            "Epoch 50/300\n",
            "422/422 [==============================] - 1s 3ms/step - loss: 0.0309 - accuracy: 0.9912 - val_loss: 0.1269 - val_accuracy: 0.9698\n",
            "Epoch 51/300\n",
            "422/422 [==============================] - 1s 3ms/step - loss: 0.0309 - accuracy: 0.9914 - val_loss: 0.1289 - val_accuracy: 0.9675\n",
            "Epoch 52/300\n",
            "422/422 [==============================] - 1s 2ms/step - loss: 0.0295 - accuracy: 0.9924 - val_loss: 0.1287 - val_accuracy: 0.9677\n",
            "Epoch 53/300\n",
            "422/422 [==============================] - 1s 3ms/step - loss: 0.0286 - accuracy: 0.9921 - val_loss: 0.1323 - val_accuracy: 0.9667\n",
            "Epoch 54/300\n",
            "422/422 [==============================] - 1s 2ms/step - loss: 0.0276 - accuracy: 0.9925 - val_loss: 0.1316 - val_accuracy: 0.9683\n",
            "Epoch 55/300\n",
            "422/422 [==============================] - 1s 3ms/step - loss: 0.0270 - accuracy: 0.9926 - val_loss: 0.1345 - val_accuracy: 0.9687\n",
            "Epoch 56/300\n",
            "422/422 [==============================] - 1s 2ms/step - loss: 0.0269 - accuracy: 0.9929 - val_loss: 0.1339 - val_accuracy: 0.9687\n",
            "Epoch 57/300\n",
            "422/422 [==============================] - 1s 3ms/step - loss: 0.0253 - accuracy: 0.9936 - val_loss: 0.1344 - val_accuracy: 0.9665\n",
            "Epoch 58/300\n",
            "422/422 [==============================] - 1s 3ms/step - loss: 0.0245 - accuracy: 0.9939 - val_loss: 0.1407 - val_accuracy: 0.9680\n",
            "Epoch 59/300\n",
            "422/422 [==============================] - 1s 3ms/step - loss: 0.0240 - accuracy: 0.9939 - val_loss: 0.1397 - val_accuracy: 0.9675\n",
            "Epoch 60/300\n",
            "422/422 [==============================] - 1s 3ms/step - loss: 0.0232 - accuracy: 0.9941 - val_loss: 0.1385 - val_accuracy: 0.9670\n",
            "Epoch 61/300\n",
            "422/422 [==============================] - 1s 3ms/step - loss: 0.0224 - accuracy: 0.9947 - val_loss: 0.1399 - val_accuracy: 0.9685\n",
            "Epoch 62/300\n",
            "422/422 [==============================] - 1s 3ms/step - loss: 0.0225 - accuracy: 0.9944 - val_loss: 0.1435 - val_accuracy: 0.9688\n",
            "Epoch 63/300\n",
            "422/422 [==============================] - 1s 3ms/step - loss: 0.0213 - accuracy: 0.9948 - val_loss: 0.1447 - val_accuracy: 0.9670\n",
            "Epoch 64/300\n",
            "422/422 [==============================] - 1s 3ms/step - loss: 0.0207 - accuracy: 0.9948 - val_loss: 0.1531 - val_accuracy: 0.9675\n",
            "Epoch 65/300\n",
            "422/422 [==============================] - 1s 3ms/step - loss: 0.0200 - accuracy: 0.9953 - val_loss: 0.1468 - val_accuracy: 0.9668\n",
            "Epoch 66/300\n",
            "422/422 [==============================] - 1s 2ms/step - loss: 0.0198 - accuracy: 0.9951 - val_loss: 0.1478 - val_accuracy: 0.9685\n",
            "Epoch 67/300\n",
            "422/422 [==============================] - 1s 2ms/step - loss: 0.0185 - accuracy: 0.9955 - val_loss: 0.1485 - val_accuracy: 0.9682\n",
            "Epoch 68/300\n",
            "422/422 [==============================] - 1s 3ms/step - loss: 0.0178 - accuracy: 0.9961 - val_loss: 0.1491 - val_accuracy: 0.9668\n",
            "Epoch 69/300\n",
            "422/422 [==============================] - 1s 2ms/step - loss: 0.0178 - accuracy: 0.9959 - val_loss: 0.1552 - val_accuracy: 0.9690\n",
            "Epoch 70/300\n",
            "422/422 [==============================] - 1s 2ms/step - loss: 0.0174 - accuracy: 0.9959 - val_loss: 0.1557 - val_accuracy: 0.9673\n",
            "Epoch 71/300\n",
            "422/422 [==============================] - 1s 3ms/step - loss: 0.0167 - accuracy: 0.9965 - val_loss: 0.1602 - val_accuracy: 0.9687\n",
            "Epoch 72/300\n",
            "422/422 [==============================] - 1s 3ms/step - loss: 0.0159 - accuracy: 0.9965 - val_loss: 0.1610 - val_accuracy: 0.9672\n",
            "Epoch 73/300\n",
            "422/422 [==============================] - 1s 3ms/step - loss: 0.0154 - accuracy: 0.9968 - val_loss: 0.1587 - val_accuracy: 0.9693\n",
            "Epoch 74/300\n",
            "422/422 [==============================] - 1s 3ms/step - loss: 0.0153 - accuracy: 0.9967 - val_loss: 0.1614 - val_accuracy: 0.9678\n",
            "Epoch 75/300\n",
            "422/422 [==============================] - 1s 3ms/step - loss: 0.0151 - accuracy: 0.9965 - val_loss: 0.1644 - val_accuracy: 0.9675\n",
            "Epoch 76/300\n",
            "422/422 [==============================] - 1s 3ms/step - loss: 0.0144 - accuracy: 0.9971 - val_loss: 0.1707 - val_accuracy: 0.9667\n",
            "Epoch 77/300\n",
            "422/422 [==============================] - 1s 2ms/step - loss: 0.0132 - accuracy: 0.9976 - val_loss: 0.1659 - val_accuracy: 0.9688\n",
            "Epoch 78/300\n",
            "422/422 [==============================] - 1s 3ms/step - loss: 0.0134 - accuracy: 0.9973 - val_loss: 0.1693 - val_accuracy: 0.9692\n",
            "Epoch 79/300\n",
            "422/422 [==============================] - 1s 3ms/step - loss: 0.0136 - accuracy: 0.9970 - val_loss: 0.1712 - val_accuracy: 0.9680\n",
            "Epoch 80/300\n",
            "422/422 [==============================] - 1s 3ms/step - loss: 0.0127 - accuracy: 0.9972 - val_loss: 0.1697 - val_accuracy: 0.9683\n",
            "Epoch 81/300\n",
            "422/422 [==============================] - 1s 3ms/step - loss: 0.0118 - accuracy: 0.9979 - val_loss: 0.1742 - val_accuracy: 0.9678\n",
            "Epoch 82/300\n",
            "422/422 [==============================] - 1s 3ms/step - loss: 0.0113 - accuracy: 0.9981 - val_loss: 0.1741 - val_accuracy: 0.9675\n",
            "Epoch 83/300\n",
            "422/422 [==============================] - 1s 3ms/step - loss: 0.0114 - accuracy: 0.9977 - val_loss: 0.1753 - val_accuracy: 0.9680\n",
            "Epoch 84/300\n",
            "422/422 [==============================] - 1s 2ms/step - loss: 0.0116 - accuracy: 0.9977 - val_loss: 0.1778 - val_accuracy: 0.9673\n",
            "Epoch 85/300\n",
            "422/422 [==============================] - 2s 4ms/step - loss: 0.0106 - accuracy: 0.9980 - val_loss: 0.1803 - val_accuracy: 0.9692\n",
            "Epoch 86/300\n",
            "422/422 [==============================] - 1s 3ms/step - loss: 0.0114 - accuracy: 0.9977 - val_loss: 0.1809 - val_accuracy: 0.9673\n",
            "Epoch 87/300\n",
            "422/422 [==============================] - 1s 3ms/step - loss: 0.0102 - accuracy: 0.9981 - val_loss: 0.1804 - val_accuracy: 0.9677\n",
            "Epoch 88/300\n",
            "422/422 [==============================] - 1s 2ms/step - loss: 0.0094 - accuracy: 0.9985 - val_loss: 0.1788 - val_accuracy: 0.9678\n",
            "Epoch 89/300\n",
            "422/422 [==============================] - 1s 3ms/step - loss: 0.0091 - accuracy: 0.9985 - val_loss: 0.1782 - val_accuracy: 0.9682\n",
            "Epoch 90/300\n",
            "422/422 [==============================] - 1s 3ms/step - loss: 0.0090 - accuracy: 0.9986 - val_loss: 0.1862 - val_accuracy: 0.9672\n",
            "Epoch 91/300\n",
            "422/422 [==============================] - 1s 3ms/step - loss: 0.0094 - accuracy: 0.9985 - val_loss: 0.1897 - val_accuracy: 0.9680\n",
            "Epoch 92/300\n",
            "422/422 [==============================] - 1s 3ms/step - loss: 0.0087 - accuracy: 0.9988 - val_loss: 0.1912 - val_accuracy: 0.9677\n",
            "Epoch 93/300\n",
            "422/422 [==============================] - 1s 3ms/step - loss: 0.0081 - accuracy: 0.9987 - val_loss: 0.1953 - val_accuracy: 0.9675\n",
            "Epoch 94/300\n",
            "422/422 [==============================] - 1s 3ms/step - loss: 0.0081 - accuracy: 0.9986 - val_loss: 0.1952 - val_accuracy: 0.9663\n",
            "Epoch 95/300\n",
            "422/422 [==============================] - 1s 3ms/step - loss: 0.0076 - accuracy: 0.9990 - val_loss: 0.1938 - val_accuracy: 0.9682\n",
            "Epoch 96/300\n",
            "422/422 [==============================] - 1s 3ms/step - loss: 0.0077 - accuracy: 0.9987 - val_loss: 0.2010 - val_accuracy: 0.9662\n",
            "Epoch 97/300\n",
            "422/422 [==============================] - 1s 3ms/step - loss: 0.0076 - accuracy: 0.9988 - val_loss: 0.2083 - val_accuracy: 0.9678\n",
            "Epoch 98/300\n",
            "422/422 [==============================] - 1s 2ms/step - loss: 0.0072 - accuracy: 0.9989 - val_loss: 0.2077 - val_accuracy: 0.9673\n",
            "Epoch 99/300\n",
            "422/422 [==============================] - 1s 3ms/step - loss: 0.0072 - accuracy: 0.9989 - val_loss: 0.2020 - val_accuracy: 0.9678\n",
            "Epoch 100/300\n",
            "422/422 [==============================] - 1s 3ms/step - loss: 0.0068 - accuracy: 0.9990 - val_loss: 0.2030 - val_accuracy: 0.9683\n",
            "Epoch 101/300\n",
            "422/422 [==============================] - 1s 3ms/step - loss: 0.0059 - accuracy: 0.9992 - val_loss: 0.2112 - val_accuracy: 0.9670\n",
            "Epoch 102/300\n",
            "422/422 [==============================] - 1s 3ms/step - loss: 0.0055 - accuracy: 0.9996 - val_loss: 0.2035 - val_accuracy: 0.9678\n",
            "Epoch 103/300\n",
            "422/422 [==============================] - 1s 3ms/step - loss: 0.0058 - accuracy: 0.9993 - val_loss: 0.2097 - val_accuracy: 0.9683\n",
            "Epoch 104/300\n",
            "422/422 [==============================] - 1s 3ms/step - loss: 0.0065 - accuracy: 0.9989 - val_loss: 0.2096 - val_accuracy: 0.9688\n",
            "Epoch 105/300\n",
            "422/422 [==============================] - 1s 2ms/step - loss: 0.0064 - accuracy: 0.9990 - val_loss: 0.2148 - val_accuracy: 0.9678\n",
            "Epoch 106/300\n",
            "422/422 [==============================] - 1s 3ms/step - loss: 0.0052 - accuracy: 0.9994 - val_loss: 0.2144 - val_accuracy: 0.9678\n",
            "Epoch 107/300\n",
            "422/422 [==============================] - 1s 3ms/step - loss: 0.0056 - accuracy: 0.9992 - val_loss: 0.2149 - val_accuracy: 0.9680\n",
            "Epoch 108/300\n",
            "422/422 [==============================] - 2s 5ms/step - loss: 0.0052 - accuracy: 0.9995 - val_loss: 0.2148 - val_accuracy: 0.9662\n",
            "Epoch 109/300\n",
            "422/422 [==============================] - 1s 3ms/step - loss: 0.0043 - accuracy: 0.9997 - val_loss: 0.2213 - val_accuracy: 0.9685\n",
            "Epoch 110/300\n",
            "422/422 [==============================] - 1s 3ms/step - loss: 0.0052 - accuracy: 0.9992 - val_loss: 0.2212 - val_accuracy: 0.9677\n",
            "Epoch 111/300\n",
            "422/422 [==============================] - 1s 3ms/step - loss: 0.0051 - accuracy: 0.9991 - val_loss: 0.2204 - val_accuracy: 0.9670\n",
            "Epoch 112/300\n",
            "422/422 [==============================] - 1s 3ms/step - loss: 0.0046 - accuracy: 0.9994 - val_loss: 0.2250 - val_accuracy: 0.9675\n",
            "Epoch 113/300\n",
            "422/422 [==============================] - 1s 3ms/step - loss: 0.0046 - accuracy: 0.9994 - val_loss: 0.2166 - val_accuracy: 0.9687\n",
            "Epoch 114/300\n",
            "422/422 [==============================] - 1s 3ms/step - loss: 0.0043 - accuracy: 0.9996 - val_loss: 0.2258 - val_accuracy: 0.9682\n",
            "Epoch 115/300\n",
            "422/422 [==============================] - 1s 3ms/step - loss: 0.0040 - accuracy: 0.9996 - val_loss: 0.2261 - val_accuracy: 0.9668\n",
            "Epoch 116/300\n",
            "422/422 [==============================] - 1s 3ms/step - loss: 0.0046 - accuracy: 0.9994 - val_loss: 0.2328 - val_accuracy: 0.9688\n",
            "Epoch 117/300\n",
            "422/422 [==============================] - 1s 3ms/step - loss: 0.0047 - accuracy: 0.9994 - val_loss: 0.2440 - val_accuracy: 0.9648\n",
            "Epoch 118/300\n",
            "422/422 [==============================] - 1s 3ms/step - loss: 0.0043 - accuracy: 0.9994 - val_loss: 0.2350 - val_accuracy: 0.9670\n",
            "Epoch 119/300\n",
            "422/422 [==============================] - 1s 3ms/step - loss: 0.0030 - accuracy: 0.9998 - val_loss: 0.2287 - val_accuracy: 0.9680\n",
            "Epoch 120/300\n",
            "422/422 [==============================] - 1s 3ms/step - loss: 0.0033 - accuracy: 0.9996 - val_loss: 0.2368 - val_accuracy: 0.9668\n",
            "Epoch 121/300\n",
            "422/422 [==============================] - 1s 3ms/step - loss: 0.0054 - accuracy: 0.9989 - val_loss: 0.2344 - val_accuracy: 0.9683\n",
            "Epoch 122/300\n",
            "422/422 [==============================] - 1s 3ms/step - loss: 0.0033 - accuracy: 0.9996 - val_loss: 0.2405 - val_accuracy: 0.9673\n",
            "Epoch 123/300\n",
            "422/422 [==============================] - 1s 3ms/step - loss: 0.0037 - accuracy: 0.9994 - val_loss: 0.2404 - val_accuracy: 0.9675\n",
            "Epoch 124/300\n",
            "422/422 [==============================] - 1s 3ms/step - loss: 0.0030 - accuracy: 0.9996 - val_loss: 0.2543 - val_accuracy: 0.9663\n",
            "Epoch 125/300\n",
            "422/422 [==============================] - 1s 3ms/step - loss: 0.0034 - accuracy: 0.9996 - val_loss: 0.2376 - val_accuracy: 0.9692\n",
            "Epoch 126/300\n",
            "422/422 [==============================] - 1s 3ms/step - loss: 0.0023 - accuracy: 1.0000 - val_loss: 0.2443 - val_accuracy: 0.9677\n",
            "Epoch 127/300\n",
            "422/422 [==============================] - 1s 3ms/step - loss: 0.0029 - accuracy: 0.9997 - val_loss: 0.2382 - val_accuracy: 0.9688\n",
            "Epoch 128/300\n",
            "422/422 [==============================] - 1s 3ms/step - loss: 0.0035 - accuracy: 0.9996 - val_loss: 0.2439 - val_accuracy: 0.9672\n",
            "Epoch 129/300\n",
            "422/422 [==============================] - 1s 3ms/step - loss: 0.0025 - accuracy: 0.9999 - val_loss: 0.2492 - val_accuracy: 0.9673\n",
            "Epoch 130/300\n",
            "422/422 [==============================] - 1s 3ms/step - loss: 0.0029 - accuracy: 0.9997 - val_loss: 0.2505 - val_accuracy: 0.9680\n",
            "Epoch 131/300\n",
            "422/422 [==============================] - 1s 3ms/step - loss: 0.0022 - accuracy: 0.9999 - val_loss: 0.2471 - val_accuracy: 0.9677\n",
            "Epoch 132/300\n",
            "422/422 [==============================] - 1s 2ms/step - loss: 0.0021 - accuracy: 0.9999 - val_loss: 0.2566 - val_accuracy: 0.9673\n",
            "Epoch 133/300\n",
            "422/422 [==============================] - 1s 3ms/step - loss: 0.0045 - accuracy: 0.9989 - val_loss: 0.2636 - val_accuracy: 0.9672\n",
            "Epoch 134/300\n",
            "422/422 [==============================] - 1s 3ms/step - loss: 0.0052 - accuracy: 0.9989 - val_loss: 0.2537 - val_accuracy: 0.9678\n",
            "Epoch 135/300\n",
            "422/422 [==============================] - 1s 3ms/step - loss: 0.0018 - accuracy: 1.0000 - val_loss: 0.2539 - val_accuracy: 0.9683\n",
            "Epoch 136/300\n",
            "422/422 [==============================] - 1s 3ms/step - loss: 0.0014 - accuracy: 1.0000 - val_loss: 0.2539 - val_accuracy: 0.9690\n",
            "Epoch 137/300\n",
            "422/422 [==============================] - 1s 3ms/step - loss: 0.0014 - accuracy: 1.0000 - val_loss: 0.2586 - val_accuracy: 0.9685\n",
            "Epoch 138/300\n",
            "422/422 [==============================] - 1s 3ms/step - loss: 0.0016 - accuracy: 0.9999 - val_loss: 0.2606 - val_accuracy: 0.9668\n",
            "Epoch 139/300\n",
            "422/422 [==============================] - 1s 3ms/step - loss: 0.0057 - accuracy: 0.9982 - val_loss: 0.2749 - val_accuracy: 0.9662\n",
            "Epoch 140/300\n",
            "422/422 [==============================] - 1s 3ms/step - loss: 0.0033 - accuracy: 0.9996 - val_loss: 0.2665 - val_accuracy: 0.9682\n",
            "Epoch 141/300\n",
            "422/422 [==============================] - 1s 3ms/step - loss: 0.0015 - accuracy: 1.0000 - val_loss: 0.2572 - val_accuracy: 0.9692\n",
            "Epoch 142/300\n",
            "422/422 [==============================] - 1s 3ms/step - loss: 0.0012 - accuracy: 1.0000 - val_loss: 0.2655 - val_accuracy: 0.9682\n",
            "Epoch 143/300\n",
            "422/422 [==============================] - 1s 3ms/step - loss: 0.0012 - accuracy: 1.0000 - val_loss: 0.2655 - val_accuracy: 0.9685\n",
            "Epoch 144/300\n",
            "422/422 [==============================] - 1s 3ms/step - loss: 0.0021 - accuracy: 0.9996 - val_loss: 0.2769 - val_accuracy: 0.9677\n",
            "Epoch 145/300\n",
            "422/422 [==============================] - 1s 3ms/step - loss: 0.0084 - accuracy: 0.9973 - val_loss: 0.2679 - val_accuracy: 0.9667\n",
            "Epoch 146/300\n",
            "422/422 [==============================] - 1s 3ms/step - loss: 0.0016 - accuracy: 0.9999 - val_loss: 0.2687 - val_accuracy: 0.9667\n",
            "Epoch 147/300\n",
            "422/422 [==============================] - 1s 3ms/step - loss: 0.0011 - accuracy: 1.0000 - val_loss: 0.2646 - val_accuracy: 0.9675\n",
            "Epoch 148/300\n",
            "422/422 [==============================] - 1s 3ms/step - loss: 9.7234e-04 - accuracy: 1.0000 - val_loss: 0.2685 - val_accuracy: 0.9672\n",
            "Epoch 149/300\n",
            "422/422 [==============================] - 1s 3ms/step - loss: 9.3818e-04 - accuracy: 1.0000 - val_loss: 0.2677 - val_accuracy: 0.9685\n",
            "Epoch 150/300\n",
            "422/422 [==============================] - 1s 3ms/step - loss: 0.0011 - accuracy: 1.0000 - val_loss: 0.2701 - val_accuracy: 0.9690\n",
            "Epoch 151/300\n",
            "422/422 [==============================] - 1s 3ms/step - loss: 0.0065 - accuracy: 0.9982 - val_loss: 0.2630 - val_accuracy: 0.9708\n",
            "Epoch 152/300\n",
            "422/422 [==============================] - 1s 3ms/step - loss: 0.0026 - accuracy: 0.9995 - val_loss: 0.2672 - val_accuracy: 0.9688\n",
            "Epoch 153/300\n",
            "422/422 [==============================] - 1s 3ms/step - loss: 0.0010 - accuracy: 1.0000 - val_loss: 0.2731 - val_accuracy: 0.9687\n",
            "Epoch 154/300\n",
            "422/422 [==============================] - 1s 3ms/step - loss: 9.3137e-04 - accuracy: 1.0000 - val_loss: 0.2726 - val_accuracy: 0.9683\n",
            "Epoch 155/300\n",
            "422/422 [==============================] - 1s 3ms/step - loss: 8.3688e-04 - accuracy: 1.0000 - val_loss: 0.2710 - val_accuracy: 0.9685\n",
            "Epoch 156/300\n",
            "422/422 [==============================] - 1s 3ms/step - loss: 7.9742e-04 - accuracy: 1.0000 - val_loss: 0.2747 - val_accuracy: 0.9678\n",
            "Epoch 157/300\n",
            "422/422 [==============================] - 1s 3ms/step - loss: 0.0016 - accuracy: 0.9997 - val_loss: 0.3003 - val_accuracy: 0.9658\n",
            "Epoch 158/300\n",
            "422/422 [==============================] - 1s 3ms/step - loss: 0.0080 - accuracy: 0.9975 - val_loss: 0.2810 - val_accuracy: 0.9685\n",
            "Epoch 159/300\n",
            "422/422 [==============================] - 1s 3ms/step - loss: 0.0011 - accuracy: 1.0000 - val_loss: 0.2822 - val_accuracy: 0.9690\n",
            "Epoch 160/300\n",
            "422/422 [==============================] - 1s 3ms/step - loss: 8.1036e-04 - accuracy: 1.0000 - val_loss: 0.2838 - val_accuracy: 0.9690\n",
            "Epoch 161/300\n",
            "422/422 [==============================] - 1s 3ms/step - loss: 7.4453e-04 - accuracy: 1.0000 - val_loss: 0.2810 - val_accuracy: 0.9688\n",
            "Epoch 162/300\n",
            "422/422 [==============================] - 1s 3ms/step - loss: 7.0595e-04 - accuracy: 1.0000 - val_loss: 0.2836 - val_accuracy: 0.9683\n",
            "Epoch 163/300\n",
            "422/422 [==============================] - 1s 3ms/step - loss: 0.0041 - accuracy: 0.9987 - val_loss: 0.2973 - val_accuracy: 0.9663\n",
            "Epoch 164/300\n",
            "422/422 [==============================] - 1s 3ms/step - loss: 0.0040 - accuracy: 0.9991 - val_loss: 0.2770 - val_accuracy: 0.9663\n",
            "Epoch 165/300\n",
            "422/422 [==============================] - 1s 3ms/step - loss: 0.0017 - accuracy: 0.9998 - val_loss: 0.2829 - val_accuracy: 0.9682\n",
            "Epoch 166/300\n",
            "422/422 [==============================] - 1s 3ms/step - loss: 0.0013 - accuracy: 0.9999 - val_loss: 0.2815 - val_accuracy: 0.9673\n",
            "Epoch 167/300\n",
            "422/422 [==============================] - 1s 3ms/step - loss: 7.0841e-04 - accuracy: 1.0000 - val_loss: 0.2815 - val_accuracy: 0.9683\n",
            "Epoch 168/300\n",
            "422/422 [==============================] - 1s 3ms/step - loss: 6.2391e-04 - accuracy: 1.0000 - val_loss: 0.2825 - val_accuracy: 0.9677\n",
            "Epoch 169/300\n",
            "422/422 [==============================] - 1s 3ms/step - loss: 6.0926e-04 - accuracy: 1.0000 - val_loss: 0.2847 - val_accuracy: 0.9678\n",
            "Epoch 170/300\n",
            "422/422 [==============================] - 1s 3ms/step - loss: 6.3155e-04 - accuracy: 1.0000 - val_loss: 0.2859 - val_accuracy: 0.9692\n",
            "Epoch 171/300\n",
            "422/422 [==============================] - 1s 3ms/step - loss: 6.4131e-04 - accuracy: 1.0000 - val_loss: 0.2878 - val_accuracy: 0.9683\n",
            "Epoch 172/300\n",
            "422/422 [==============================] - 1s 3ms/step - loss: 0.0078 - accuracy: 0.9972 - val_loss: 0.3268 - val_accuracy: 0.9672\n",
            "Epoch 173/300\n",
            "422/422 [==============================] - 1s 3ms/step - loss: 0.0042 - accuracy: 0.9989 - val_loss: 0.2952 - val_accuracy: 0.9685\n",
            "Epoch 174/300\n",
            "422/422 [==============================] - 1s 3ms/step - loss: 8.4141e-04 - accuracy: 1.0000 - val_loss: 0.2955 - val_accuracy: 0.9685\n",
            "Epoch 175/300\n",
            "422/422 [==============================] - 1s 3ms/step - loss: 6.4275e-04 - accuracy: 1.0000 - val_loss: 0.2958 - val_accuracy: 0.9677\n",
            "Epoch 176/300\n",
            "422/422 [==============================] - 1s 3ms/step - loss: 5.6279e-04 - accuracy: 1.0000 - val_loss: 0.2957 - val_accuracy: 0.9685\n",
            "Epoch 177/300\n",
            "422/422 [==============================] - 1s 3ms/step - loss: 5.3798e-04 - accuracy: 1.0000 - val_loss: 0.2959 - val_accuracy: 0.9685\n",
            "Epoch 178/300\n",
            "422/422 [==============================] - 1s 3ms/step - loss: 9.1329e-04 - accuracy: 0.9999 - val_loss: 0.3019 - val_accuracy: 0.9677\n",
            "Epoch 179/300\n",
            "422/422 [==============================] - 1s 3ms/step - loss: 0.0075 - accuracy: 0.9974 - val_loss: 0.3073 - val_accuracy: 0.9663\n",
            "Epoch 180/300\n",
            "422/422 [==============================] - 1s 3ms/step - loss: 0.0030 - accuracy: 0.9993 - val_loss: 0.2944 - val_accuracy: 0.9690\n",
            "Epoch 181/300\n",
            "422/422 [==============================] - 1s 3ms/step - loss: 6.7696e-04 - accuracy: 1.0000 - val_loss: 0.2997 - val_accuracy: 0.9682\n",
            "Epoch 182/300\n",
            "422/422 [==============================] - 1s 3ms/step - loss: 5.4391e-04 - accuracy: 1.0000 - val_loss: 0.2984 - val_accuracy: 0.9682\n",
            "Epoch 183/300\n",
            "422/422 [==============================] - 1s 3ms/step - loss: 4.9590e-04 - accuracy: 1.0000 - val_loss: 0.2986 - val_accuracy: 0.9685\n",
            "Epoch 184/300\n",
            "422/422 [==============================] - 1s 3ms/step - loss: 4.7471e-04 - accuracy: 1.0000 - val_loss: 0.3004 - val_accuracy: 0.9692\n",
            "Epoch 185/300\n",
            "422/422 [==============================] - 1s 3ms/step - loss: 5.0408e-04 - accuracy: 1.0000 - val_loss: 0.3000 - val_accuracy: 0.9672\n",
            "Epoch 186/300\n",
            "422/422 [==============================] - 1s 3ms/step - loss: 4.5458e-04 - accuracy: 1.0000 - val_loss: 0.3072 - val_accuracy: 0.9685\n",
            "Epoch 187/300\n",
            "422/422 [==============================] - 1s 3ms/step - loss: 4.5150e-04 - accuracy: 1.0000 - val_loss: 0.3061 - val_accuracy: 0.9667\n",
            "Epoch 188/300\n",
            "422/422 [==============================] - 1s 3ms/step - loss: 0.0099 - accuracy: 0.9968 - val_loss: 0.3002 - val_accuracy: 0.9672\n",
            "Epoch 189/300\n",
            "422/422 [==============================] - 1s 3ms/step - loss: 0.0018 - accuracy: 0.9996 - val_loss: 0.3052 - val_accuracy: 0.9687\n",
            "Epoch 190/300\n",
            "422/422 [==============================] - 1s 3ms/step - loss: 7.4384e-04 - accuracy: 1.0000 - val_loss: 0.3060 - val_accuracy: 0.9688\n",
            "Epoch 191/300\n",
            "422/422 [==============================] - 1s 3ms/step - loss: 5.4302e-04 - accuracy: 1.0000 - val_loss: 0.3098 - val_accuracy: 0.9687\n",
            "Epoch 192/300\n",
            "422/422 [==============================] - 1s 3ms/step - loss: 4.5857e-04 - accuracy: 1.0000 - val_loss: 0.3066 - val_accuracy: 0.9683\n",
            "Epoch 193/300\n",
            "422/422 [==============================] - 1s 3ms/step - loss: 4.2213e-04 - accuracy: 1.0000 - val_loss: 0.3072 - val_accuracy: 0.9693\n",
            "Epoch 194/300\n",
            "422/422 [==============================] - 1s 3ms/step - loss: 4.1722e-04 - accuracy: 1.0000 - val_loss: 0.3055 - val_accuracy: 0.9685\n",
            "Epoch 195/300\n",
            "422/422 [==============================] - 1s 3ms/step - loss: 3.9212e-04 - accuracy: 1.0000 - val_loss: 0.3078 - val_accuracy: 0.9692\n",
            "Epoch 196/300\n",
            "422/422 [==============================] - 1s 3ms/step - loss: 8.7741e-04 - accuracy: 0.9998 - val_loss: 0.3172 - val_accuracy: 0.9682\n",
            "Epoch 197/300\n",
            "422/422 [==============================] - 1s 3ms/step - loss: 0.0091 - accuracy: 0.9969 - val_loss: 0.3024 - val_accuracy: 0.9680\n",
            "Epoch 198/300\n",
            "422/422 [==============================] - 1s 3ms/step - loss: 0.0014 - accuracy: 0.9998 - val_loss: 0.3063 - val_accuracy: 0.9683\n",
            "Epoch 199/300\n",
            "422/422 [==============================] - 1s 3ms/step - loss: 5.1922e-04 - accuracy: 1.0000 - val_loss: 0.3100 - val_accuracy: 0.9683\n",
            "Epoch 200/300\n",
            "422/422 [==============================] - 1s 3ms/step - loss: 4.2588e-04 - accuracy: 1.0000 - val_loss: 0.3099 - val_accuracy: 0.9685\n",
            "Epoch 201/300\n",
            "422/422 [==============================] - 1s 3ms/step - loss: 3.8444e-04 - accuracy: 1.0000 - val_loss: 0.3097 - val_accuracy: 0.9685\n",
            "Epoch 202/300\n",
            "422/422 [==============================] - 1s 3ms/step - loss: 3.6673e-04 - accuracy: 1.0000 - val_loss: 0.3099 - val_accuracy: 0.9685\n",
            "Epoch 203/300\n",
            "422/422 [==============================] - 1s 3ms/step - loss: 3.5530e-04 - accuracy: 1.0000 - val_loss: 0.3164 - val_accuracy: 0.9677\n",
            "Epoch 204/300\n",
            "422/422 [==============================] - 1s 3ms/step - loss: 3.4780e-04 - accuracy: 1.0000 - val_loss: 0.3133 - val_accuracy: 0.9685\n",
            "Epoch 205/300\n",
            "422/422 [==============================] - 1s 3ms/step - loss: 3.4428e-04 - accuracy: 1.0000 - val_loss: 0.3138 - val_accuracy: 0.9688\n",
            "Epoch 206/300\n",
            "422/422 [==============================] - 1s 3ms/step - loss: 0.0031 - accuracy: 0.9992 - val_loss: 0.3256 - val_accuracy: 0.9658\n",
            "Epoch 207/300\n",
            "422/422 [==============================] - 1s 3ms/step - loss: 0.0060 - accuracy: 0.9980 - val_loss: 0.3150 - val_accuracy: 0.9678\n",
            "Epoch 208/300\n",
            "422/422 [==============================] - 1s 3ms/step - loss: 0.0015 - accuracy: 0.9997 - val_loss: 0.3165 - val_accuracy: 0.9683\n",
            "Epoch 209/300\n",
            "422/422 [==============================] - 1s 3ms/step - loss: 5.1014e-04 - accuracy: 1.0000 - val_loss: 0.3152 - val_accuracy: 0.9683\n",
            "Epoch 210/300\n",
            "422/422 [==============================] - 1s 3ms/step - loss: 3.5697e-04 - accuracy: 1.0000 - val_loss: 0.3167 - val_accuracy: 0.9685\n",
            "Epoch 211/300\n",
            "422/422 [==============================] - 1s 3ms/step - loss: 3.2683e-04 - accuracy: 1.0000 - val_loss: 0.3166 - val_accuracy: 0.9685\n",
            "Epoch 212/300\n",
            "422/422 [==============================] - 1s 3ms/step - loss: 3.0816e-04 - accuracy: 1.0000 - val_loss: 0.3166 - val_accuracy: 0.9685\n",
            "Epoch 213/300\n",
            "422/422 [==============================] - 1s 3ms/step - loss: 2.9321e-04 - accuracy: 1.0000 - val_loss: 0.3182 - val_accuracy: 0.9682\n",
            "Epoch 214/300\n",
            "422/422 [==============================] - 1s 3ms/step - loss: 2.8112e-04 - accuracy: 1.0000 - val_loss: 0.3195 - val_accuracy: 0.9688\n",
            "Epoch 215/300\n",
            "422/422 [==============================] - 1s 3ms/step - loss: 2.6855e-04 - accuracy: 1.0000 - val_loss: 0.3200 - val_accuracy: 0.9695\n",
            "Epoch 216/300\n",
            "422/422 [==============================] - 1s 3ms/step - loss: 0.0023 - accuracy: 0.9994 - val_loss: 0.3720 - val_accuracy: 0.9620\n",
            "Epoch 217/300\n",
            "422/422 [==============================] - 1s 3ms/step - loss: 0.0081 - accuracy: 0.9976 - val_loss: 0.3324 - val_accuracy: 0.9675\n",
            "Epoch 218/300\n",
            "422/422 [==============================] - 1s 3ms/step - loss: 7.7961e-04 - accuracy: 1.0000 - val_loss: 0.3253 - val_accuracy: 0.9702\n",
            "Epoch 219/300\n",
            "422/422 [==============================] - 1s 3ms/step - loss: 4.3051e-04 - accuracy: 1.0000 - val_loss: 0.3243 - val_accuracy: 0.9693\n",
            "Epoch 220/300\n",
            "422/422 [==============================] - 1s 3ms/step - loss: 3.2054e-04 - accuracy: 1.0000 - val_loss: 0.3255 - val_accuracy: 0.9692\n",
            "Epoch 221/300\n",
            "422/422 [==============================] - 1s 3ms/step - loss: 2.9338e-04 - accuracy: 1.0000 - val_loss: 0.3248 - val_accuracy: 0.9692\n",
            "Epoch 222/300\n",
            "422/422 [==============================] - 1s 3ms/step - loss: 2.7453e-04 - accuracy: 1.0000 - val_loss: 0.3278 - val_accuracy: 0.9687\n",
            "Epoch 223/300\n",
            "422/422 [==============================] - 1s 3ms/step - loss: 2.6518e-04 - accuracy: 1.0000 - val_loss: 0.3275 - val_accuracy: 0.9685\n",
            "Epoch 224/300\n",
            "422/422 [==============================] - 1s 3ms/step - loss: 2.6476e-04 - accuracy: 1.0000 - val_loss: 0.3244 - val_accuracy: 0.9688\n",
            "Epoch 225/300\n",
            "422/422 [==============================] - 1s 3ms/step - loss: 2.5648e-04 - accuracy: 1.0000 - val_loss: 0.3297 - val_accuracy: 0.9680\n",
            "Epoch 226/300\n",
            "422/422 [==============================] - 1s 3ms/step - loss: 0.0029 - accuracy: 0.9991 - val_loss: 0.3620 - val_accuracy: 0.9638\n",
            "Epoch 227/300\n",
            "422/422 [==============================] - 1s 3ms/step - loss: 0.0071 - accuracy: 0.9979 - val_loss: 0.3364 - val_accuracy: 0.9677\n",
            "Epoch 228/300\n",
            "422/422 [==============================] - 1s 3ms/step - loss: 7.6374e-04 - accuracy: 0.9999 - val_loss: 0.3309 - val_accuracy: 0.9680\n",
            "Epoch 229/300\n",
            "422/422 [==============================] - 1s 3ms/step - loss: 3.4419e-04 - accuracy: 1.0000 - val_loss: 0.3295 - val_accuracy: 0.9687\n",
            "Epoch 230/300\n",
            "422/422 [==============================] - 1s 3ms/step - loss: 2.8592e-04 - accuracy: 1.0000 - val_loss: 0.3286 - val_accuracy: 0.9685\n",
            "Epoch 231/300\n",
            "422/422 [==============================] - 1s 3ms/step - loss: 2.6255e-04 - accuracy: 1.0000 - val_loss: 0.3289 - val_accuracy: 0.9685\n",
            "Epoch 232/300\n",
            "422/422 [==============================] - 1s 3ms/step - loss: 2.4444e-04 - accuracy: 1.0000 - val_loss: 0.3299 - val_accuracy: 0.9685\n",
            "Epoch 233/300\n",
            "422/422 [==============================] - 1s 3ms/step - loss: 2.3148e-04 - accuracy: 1.0000 - val_loss: 0.3281 - val_accuracy: 0.9687\n",
            "Epoch 234/300\n",
            "422/422 [==============================] - 1s 3ms/step - loss: 2.2608e-04 - accuracy: 1.0000 - val_loss: 0.3288 - val_accuracy: 0.9685\n",
            "Epoch 235/300\n",
            "422/422 [==============================] - 1s 3ms/step - loss: 0.0040 - accuracy: 0.9986 - val_loss: 0.3555 - val_accuracy: 0.9645\n",
            "Epoch 236/300\n",
            "422/422 [==============================] - 1s 3ms/step - loss: 0.0042 - accuracy: 0.9988 - val_loss: 0.3453 - val_accuracy: 0.9672\n",
            "Epoch 237/300\n",
            "422/422 [==============================] - 1s 3ms/step - loss: 0.0010 - accuracy: 0.9999 - val_loss: 0.3323 - val_accuracy: 0.9690\n",
            "Epoch 238/300\n",
            "422/422 [==============================] - 1s 3ms/step - loss: 3.6140e-04 - accuracy: 1.0000 - val_loss: 0.3342 - val_accuracy: 0.9693\n",
            "Epoch 239/300\n",
            "422/422 [==============================] - 1s 3ms/step - loss: 2.6588e-04 - accuracy: 1.0000 - val_loss: 0.3349 - val_accuracy: 0.9692\n",
            "Epoch 240/300\n",
            "422/422 [==============================] - 1s 3ms/step - loss: 2.4256e-04 - accuracy: 1.0000 - val_loss: 0.3349 - val_accuracy: 0.9685\n",
            "Epoch 241/300\n",
            "422/422 [==============================] - 1s 3ms/step - loss: 2.2593e-04 - accuracy: 1.0000 - val_loss: 0.3366 - val_accuracy: 0.9687\n",
            "Epoch 242/300\n",
            "422/422 [==============================] - 1s 3ms/step - loss: 2.1180e-04 - accuracy: 1.0000 - val_loss: 0.3346 - val_accuracy: 0.9690\n",
            "Epoch 243/300\n",
            "422/422 [==============================] - 1s 3ms/step - loss: 2.0965e-04 - accuracy: 1.0000 - val_loss: 0.3417 - val_accuracy: 0.9692\n",
            "Epoch 244/300\n",
            "422/422 [==============================] - 1s 3ms/step - loss: 2.0820e-04 - accuracy: 1.0000 - val_loss: 0.3372 - val_accuracy: 0.9693\n",
            "Epoch 245/300\n",
            "422/422 [==============================] - 1s 3ms/step - loss: 2.0513e-04 - accuracy: 1.0000 - val_loss: 0.3382 - val_accuracy: 0.9685\n",
            "Epoch 246/300\n",
            "422/422 [==============================] - 1s 3ms/step - loss: 5.5800e-04 - accuracy: 0.9999 - val_loss: 0.3758 - val_accuracy: 0.9640\n",
            "Epoch 247/300\n",
            "422/422 [==============================] - 1s 3ms/step - loss: 0.0093 - accuracy: 0.9971 - val_loss: 0.3555 - val_accuracy: 0.9662\n",
            "Epoch 248/300\n",
            "422/422 [==============================] - 1s 3ms/step - loss: 0.0013 - accuracy: 0.9996 - val_loss: 0.3466 - val_accuracy: 0.9685\n",
            "Epoch 249/300\n",
            "422/422 [==============================] - 1s 3ms/step - loss: 5.7135e-04 - accuracy: 0.9999 - val_loss: 0.3480 - val_accuracy: 0.9680\n",
            "Epoch 250/300\n",
            "422/422 [==============================] - 1s 3ms/step - loss: 2.5893e-04 - accuracy: 1.0000 - val_loss: 0.3448 - val_accuracy: 0.9678\n",
            "Epoch 251/300\n",
            "422/422 [==============================] - 1s 3ms/step - loss: 2.2312e-04 - accuracy: 1.0000 - val_loss: 0.3427 - val_accuracy: 0.9680\n",
            "Epoch 252/300\n",
            "422/422 [==============================] - 1s 3ms/step - loss: 2.0263e-04 - accuracy: 1.0000 - val_loss: 0.3439 - val_accuracy: 0.9680\n",
            "Epoch 253/300\n",
            "422/422 [==============================] - 1s 3ms/step - loss: 1.8964e-04 - accuracy: 1.0000 - val_loss: 0.3456 - val_accuracy: 0.9683\n",
            "Epoch 254/300\n",
            "422/422 [==============================] - 1s 3ms/step - loss: 1.7935e-04 - accuracy: 1.0000 - val_loss: 0.3453 - val_accuracy: 0.9685\n",
            "Epoch 255/300\n",
            "422/422 [==============================] - 1s 3ms/step - loss: 1.7372e-04 - accuracy: 1.0000 - val_loss: 0.3466 - val_accuracy: 0.9682\n",
            "Epoch 256/300\n",
            "422/422 [==============================] - 1s 3ms/step - loss: 1.7182e-04 - accuracy: 1.0000 - val_loss: 0.3450 - val_accuracy: 0.9677\n",
            "Epoch 257/300\n",
            "422/422 [==============================] - 1s 3ms/step - loss: 1.6846e-04 - accuracy: 1.0000 - val_loss: 0.3489 - val_accuracy: 0.9685\n",
            "Epoch 258/300\n",
            "422/422 [==============================] - 1s 3ms/step - loss: 1.9638e-04 - accuracy: 1.0000 - val_loss: 0.3507 - val_accuracy: 0.9680\n",
            "Epoch 259/300\n",
            "422/422 [==============================] - 1s 3ms/step - loss: 0.0073 - accuracy: 0.9974 - val_loss: 0.3568 - val_accuracy: 0.9650\n",
            "Epoch 260/300\n",
            "422/422 [==============================] - 1s 3ms/step - loss: 0.0023 - accuracy: 0.9995 - val_loss: 0.3564 - val_accuracy: 0.9688\n",
            "Epoch 261/300\n",
            "422/422 [==============================] - 1s 3ms/step - loss: 4.1401e-04 - accuracy: 1.0000 - val_loss: 0.3533 - val_accuracy: 0.9683\n",
            "Epoch 262/300\n",
            "422/422 [==============================] - 1s 3ms/step - loss: 2.7463e-04 - accuracy: 1.0000 - val_loss: 0.3536 - val_accuracy: 0.9688\n",
            "Epoch 263/300\n",
            "422/422 [==============================] - 1s 3ms/step - loss: 1.9490e-04 - accuracy: 1.0000 - val_loss: 0.3560 - val_accuracy: 0.9683\n",
            "Epoch 264/300\n",
            "422/422 [==============================] - 1s 3ms/step - loss: 1.7737e-04 - accuracy: 1.0000 - val_loss: 0.3550 - val_accuracy: 0.9687\n",
            "Epoch 265/300\n",
            "422/422 [==============================] - 1s 3ms/step - loss: 1.6720e-04 - accuracy: 1.0000 - val_loss: 0.3543 - val_accuracy: 0.9688\n",
            "Epoch 266/300\n",
            "422/422 [==============================] - 1s 3ms/step - loss: 1.5733e-04 - accuracy: 1.0000 - val_loss: 0.3549 - val_accuracy: 0.9683\n",
            "Epoch 267/300\n",
            "422/422 [==============================] - 1s 3ms/step - loss: 1.4756e-04 - accuracy: 1.0000 - val_loss: 0.3573 - val_accuracy: 0.9682\n",
            "Epoch 268/300\n",
            "422/422 [==============================] - 1s 3ms/step - loss: 1.4531e-04 - accuracy: 1.0000 - val_loss: 0.3554 - val_accuracy: 0.9690\n",
            "Epoch 269/300\n",
            "422/422 [==============================] - 1s 3ms/step - loss: 1.4279e-04 - accuracy: 1.0000 - val_loss: 0.3545 - val_accuracy: 0.9692\n",
            "Epoch 270/300\n",
            "422/422 [==============================] - 1s 3ms/step - loss: 1.3780e-04 - accuracy: 1.0000 - val_loss: 0.3573 - val_accuracy: 0.9697\n",
            "Epoch 271/300\n",
            "422/422 [==============================] - 1s 3ms/step - loss: 1.3940e-04 - accuracy: 1.0000 - val_loss: 0.3562 - val_accuracy: 0.9692\n",
            "Epoch 272/300\n",
            "422/422 [==============================] - 1s 3ms/step - loss: 0.0090 - accuracy: 0.9972 - val_loss: 0.3728 - val_accuracy: 0.9688\n",
            "Epoch 273/300\n",
            "422/422 [==============================] - 1s 3ms/step - loss: 0.0010 - accuracy: 0.9999 - val_loss: 0.3657 - val_accuracy: 0.9688\n",
            "Epoch 274/300\n",
            "422/422 [==============================] - 1s 3ms/step - loss: 3.0496e-04 - accuracy: 1.0000 - val_loss: 0.3616 - val_accuracy: 0.9685\n",
            "Epoch 275/300\n",
            "422/422 [==============================] - 1s 3ms/step - loss: 2.0542e-04 - accuracy: 1.0000 - val_loss: 0.3609 - val_accuracy: 0.9687\n",
            "Epoch 276/300\n",
            "422/422 [==============================] - 1s 3ms/step - loss: 1.8200e-04 - accuracy: 1.0000 - val_loss: 0.3599 - val_accuracy: 0.9687\n",
            "Epoch 277/300\n",
            "422/422 [==============================] - 1s 3ms/step - loss: 1.6443e-04 - accuracy: 1.0000 - val_loss: 0.3571 - val_accuracy: 0.9697\n",
            "Epoch 278/300\n",
            "422/422 [==============================] - 1s 3ms/step - loss: 1.5420e-04 - accuracy: 1.0000 - val_loss: 0.3592 - val_accuracy: 0.9690\n",
            "Epoch 279/300\n",
            "422/422 [==============================] - 1s 3ms/step - loss: 1.4165e-04 - accuracy: 1.0000 - val_loss: 0.3607 - val_accuracy: 0.9702\n",
            "Epoch 280/300\n",
            "422/422 [==============================] - 1s 3ms/step - loss: 1.3797e-04 - accuracy: 1.0000 - val_loss: 0.3583 - val_accuracy: 0.9693\n",
            "Epoch 281/300\n",
            "422/422 [==============================] - 1s 3ms/step - loss: 1.2969e-04 - accuracy: 1.0000 - val_loss: 0.3599 - val_accuracy: 0.9695\n",
            "Epoch 282/300\n",
            "422/422 [==============================] - 1s 3ms/step - loss: 1.2658e-04 - accuracy: 1.0000 - val_loss: 0.3612 - val_accuracy: 0.9688\n",
            "Epoch 283/300\n",
            "422/422 [==============================] - 1s 3ms/step - loss: 1.2823e-04 - accuracy: 1.0000 - val_loss: 0.3586 - val_accuracy: 0.9693\n",
            "Epoch 284/300\n",
            "422/422 [==============================] - 1s 3ms/step - loss: 0.0095 - accuracy: 0.9971 - val_loss: 0.3755 - val_accuracy: 0.9665\n",
            "Epoch 285/300\n",
            "422/422 [==============================] - 1s 3ms/step - loss: 0.0015 - accuracy: 0.9995 - val_loss: 0.3589 - val_accuracy: 0.9673\n",
            "Epoch 286/300\n",
            "422/422 [==============================] - 1s 3ms/step - loss: 3.7993e-04 - accuracy: 1.0000 - val_loss: 0.3620 - val_accuracy: 0.9678\n",
            "Epoch 287/300\n",
            "422/422 [==============================] - 1s 3ms/step - loss: 1.9469e-04 - accuracy: 1.0000 - val_loss: 0.3622 - val_accuracy: 0.9680\n",
            "Epoch 288/300\n",
            "422/422 [==============================] - 1s 3ms/step - loss: 1.6560e-04 - accuracy: 1.0000 - val_loss: 0.3635 - val_accuracy: 0.9680\n",
            "Epoch 289/300\n",
            "422/422 [==============================] - 1s 3ms/step - loss: 1.5146e-04 - accuracy: 1.0000 - val_loss: 0.3634 - val_accuracy: 0.9680\n",
            "Epoch 290/300\n",
            "422/422 [==============================] - 1s 3ms/step - loss: 1.3939e-04 - accuracy: 1.0000 - val_loss: 0.3649 - val_accuracy: 0.9682\n",
            "Epoch 291/300\n",
            "422/422 [==============================] - 1s 3ms/step - loss: 1.3153e-04 - accuracy: 1.0000 - val_loss: 0.3634 - val_accuracy: 0.9683\n",
            "Epoch 292/300\n",
            "422/422 [==============================] - 1s 3ms/step - loss: 1.2500e-04 - accuracy: 1.0000 - val_loss: 0.3650 - val_accuracy: 0.9687\n",
            "Epoch 293/300\n",
            "422/422 [==============================] - 1s 3ms/step - loss: 1.1647e-04 - accuracy: 1.0000 - val_loss: 0.3647 - val_accuracy: 0.9690\n",
            "Epoch 294/300\n",
            "422/422 [==============================] - 1s 3ms/step - loss: 1.1383e-04 - accuracy: 1.0000 - val_loss: 0.3652 - val_accuracy: 0.9692\n",
            "Epoch 295/300\n",
            "422/422 [==============================] - 1s 3ms/step - loss: 1.0837e-04 - accuracy: 1.0000 - val_loss: 0.3644 - val_accuracy: 0.9687\n",
            "Epoch 296/300\n",
            "422/422 [==============================] - 1s 3ms/step - loss: 1.1387e-04 - accuracy: 1.0000 - val_loss: 0.3763 - val_accuracy: 0.9690\n",
            "Epoch 297/300\n",
            "422/422 [==============================] - 1s 3ms/step - loss: 0.0120 - accuracy: 0.9963 - val_loss: 0.3753 - val_accuracy: 0.9672\n",
            "Epoch 298/300\n",
            "422/422 [==============================] - 1s 3ms/step - loss: 6.8172e-04 - accuracy: 0.9999 - val_loss: 0.3822 - val_accuracy: 0.9675\n",
            "Epoch 299/300\n",
            "422/422 [==============================] - 1s 3ms/step - loss: 2.4943e-04 - accuracy: 1.0000 - val_loss: 0.3730 - val_accuracy: 0.9687\n",
            "Epoch 300/300\n",
            "422/422 [==============================] - 1s 3ms/step - loss: 1.8140e-04 - accuracy: 1.0000 - val_loss: 0.3714 - val_accuracy: 0.9688\n",
            "Точность работы на тестовых данных: 96.43%\n"
          ]
        }
      ]
    },
    {
      "cell_type": "code",
      "source": [
        "plt.plot(history.history['loss'], label='loss')\n",
        "plt.plot(history.history['val_loss'], label='val_loss')\n",
        "plt.legend()\n",
        "plt.grid()"
      ],
      "metadata": {
        "id": "xPcPHJ_B9CQ5",
        "outputId": "c69a76b3-bd8a-4926-d463-e6d882d27339",
        "colab": {
          "base_uri": "https://localhost:8080/",
          "height": 267
        }
      },
      "execution_count": 8,
      "outputs": [
        {
          "output_type": "display_data",
          "data": {
            "text/plain": [
              "<Figure size 432x288 with 1 Axes>"
            ],
            "image/png": "[encoded data removed]"
          },
          "metadata": {
            "needs_background": "light"
          }
        }
      ]
    },
    {
      "cell_type": "code",
      "source": [
        "model.save('model_30n_2k.h5')"
      ],
      "metadata": {
        "id": "DKDfPUzwP1Mz"
      },
      "execution_count": null,
      "outputs": []
    },
    {
      "cell_type": "markdown",
      "source": [
        "# **1'500 НЕЙРОНОВ**"
      ],
      "metadata": {
        "id": "A2_Ue6Q6ydMM"
      }
    },
    {
      "cell_type": "code",
      "source": [
        "# Создаем последовательную модель\n",
        "model2 = Sequential();\n",
        "\n",
        "# Добавляем уровни сети\n",
        "InputLayer(input_shape=(784,))\n",
        "#скрытый слой 1500 нейронов\n",
        "model2.add(Dense(1500, activation=\"relu\", kernel_initializer=\"normal\"))\n",
        "#выходной слой 10 нейронов\n",
        "model2.add(Dense(10, activation=\"softmax\", kernel_initializer=\"normal\"))\n",
        "\n",
        "# Компилируем модель\n",
        "model2.compile(loss=\"categorical_crossentropy\", optimizer=\"adam\", metrics=[\"accuracy\"])\n",
        "\n",
        "#print(model3.summary())\n",
        "\n",
        "# Обучаем сеть\n",
        "#Batch size – количество обучающих примеров за одну итерацию.\n",
        "history = model2.fit(X_train, Y_train, validation_split=0.1, batch_size=128, epochs=1);\n",
        "\n",
        "# Оцениваем качество обучения сети на тестовых данных\n",
        "scores = model2.evaluate(X_test, Y_test, verbose=0);\n",
        "print(\"Точность работы на тестовых данных: %.2f%%\" % (scores[1]*100))"
      ],
      "metadata": {
        "colab": {
          "base_uri": "https://localhost:8080/"
        },
        "id": "FObSwSalyLOJ",
        "outputId": "211f11a7-5d13-4060-d35f-7d1cb0af3e14"
      },
      "execution_count": 10,
      "outputs": [
        {
          "output_type": "stream",
          "name": "stdout",
          "text": [
            "422/422 [==============================] - 8s 18ms/step - loss: 0.2259 - accuracy: 0.9330 - val_loss: 0.0919 - val_accuracy: 0.9733\n",
            "Точность работы на тестовых данных: 96.81%\n"
          ]
        }
      ]
    },
    {
      "cell_type": "code",
      "source": [
        "plt.plot(history.history['loss'], label='loss')\n",
        "plt.plot(history.history['val_loss'], label='val_loss')\n",
        "plt.legend()\n",
        "plt.grid()"
      ],
      "metadata": {
        "id": "mAyQeZ_VSgBT",
        "outputId": "0210a3df-1545-4adf-92cb-9895bf807b00",
        "colab": {
          "base_uri": "https://localhost:8080/",
          "height": 265
        }
      },
      "execution_count": 11,
      "outputs": [
        {
          "output_type": "display_data",
          "data": {
            "text/plain": [
              "<Figure size 432x288 with 1 Axes>"
            ],
            "image/png": "[encoded data removed]"
          },
          "metadata": {
            "needs_background": "light"
          }
        }
      ]
    },
    {
      "cell_type": "code",
      "source": [
        "model2.save('model_1500.h5')"
      ],
      "metadata": {
        "id": "dFRa_3V67b1u"
      },
      "execution_count": null,
      "outputs": []
    },
    {
      "cell_type": "markdown",
      "source": [
        "# **5'000 **Текст, выделенный полужирным шрифтом** НЕЙРОНОВ**"
      ],
      "metadata": {
        "id": "AnAPKIiByhIb"
      }
    },
    {
      "cell_type": "code",
      "source": [
        "# Создаем последовательную модель\n",
        "model3 = Sequential();\n",
        "\n",
        "# Добавляем уровни сети\n",
        "InputLayer(input_shape=(784,))\n",
        "#скрытый слой 1500 нейронов\n",
        "model3.add(Dense(5000, activation=\"relu\", kernel_initializer=\"normal\"))\n",
        "#выходной слой 10 нейронов\n",
        "model3.add(Dense(10, activation=\"softmax\", kernel_initializer=\"normal\"))\n",
        "\n",
        "# Компилируем модель\n",
        "model3.compile(loss=\"categorical_crossentropy\", optimizer=\"adam\", metrics=[\"accuracy\"])\n",
        "\n",
        "#print(model3.summary())\n",
        "\n",
        "# Обучаем сеть\n",
        "#Batch size – количество обучающих примеров за одну итерацию.\n",
        "history = model3.fit(X_train, Y_train, validation_split=0.1, batch_size=128, epochs=1);\n",
        "\n",
        "# Оцениваем качество обучения сети на тестовых данных\n",
        "scores = model3.evaluate(X_test, Y_test, verbose=0);\n",
        "print(\"Точность работы на тестовых данных: %.2f%%\" % (scores[1]*100))"
      ],
      "metadata": {
        "colab": {
          "base_uri": "https://localhost:8080/"
        },
        "id": "tqQiTsG0yLQ3",
        "outputId": "32d84e0b-4a6b-4a6e-a99b-e8310f4cbd5d"
      },
      "execution_count": 20,
      "outputs": [
        {
          "output_type": "stream",
          "name": "stdout",
          "text": [
            "422/422 [==============================] - 27s 62ms/step - loss: 0.2156 - accuracy: 0.9355 - val_loss: 0.1030 - val_accuracy: 0.9692\n",
            "Точность работы на тестовых данных: 96.51%\n"
          ]
        }
      ]
    },
    {
      "cell_type": "code",
      "source": [
        "plt.plot(history.history['loss'], label='loss')\n",
        "plt.plot(history.history['val_loss'], label='val_loss')\n",
        "plt.legend()\n",
        "plt.grid()"
      ],
      "metadata": {
        "id": "tpaYCyQkTllm",
        "outputId": "7eac687e-38c1-4bb4-f2a6-4c725bbf7b3f",
        "colab": {
          "base_uri": "https://localhost:8080/",
          "height": 265
        }
      },
      "execution_count": 13,
      "outputs": [
        {
          "output_type": "display_data",
          "data": {
            "text/plain": [
              "<Figure size 432x288 with 1 Axes>"
            ],
            "image/png": "[encoded data removed]"
          },
          "metadata": {
            "needs_background": "light"
          }
        }
      ]
    },
    {
      "cell_type": "code",
      "source": [
        "model3.save('model_5000.h5')"
      ],
      "metadata": {
        "id": "hBBkOjkJ7oYr"
      },
      "execution_count": null,
      "outputs": []
    },
    {
      "cell_type": "markdown",
      "source": [
        "# **10'000 НЕЙРОНОВ**"
      ],
      "metadata": {
        "id": "nYnb-H8Yy2-U"
      }
    },
    {
      "cell_type": "code",
      "source": [
        "# Создаем последовательную модель\n",
        "model4 = Sequential();\n",
        "\n",
        "# Добавляем уровни сети\n",
        "InputLayer(input_shape=(784,))\n",
        "#скрытый слой 1500 нейронов\n",
        "model4.add(Dense(10000, activation=\"relu\", kernel_initializer=\"normal\"))\n",
        "#выходной слой 10 нейронов\n",
        "model4.add(Dense(10, activation=\"softmax\", kernel_initializer=\"normal\"))\n",
        "\n",
        "# Компилируем модель\n",
        "model4.compile(loss=\"categorical_crossentropy\", optimizer=\"adam\", metrics=[\"accuracy\"])\n",
        "\n",
        "#print(model4.summary())\n",
        "\n",
        "# Обучаем сеть\n",
        "#Batch size – количество обучающих примеров за одну итерацию.\n",
        "history = model4.fit(X_train, Y_train, batch_size=32, epochs=1, validation_split=0.1);\n",
        "\n",
        "# Оцениваем качество обучения сети на тестовых данных\n",
        "scores = model4.evaluate(X_test, Y_test, verbose=0);\n",
        "print(\"Точность работы на тестовых данных: %.2f%%\" % (scores[1]*100))"
      ],
      "metadata": {
        "colab": {
          "base_uri": "https://localhost:8080/"
        },
        "id": "MpQfbTncyLUh",
        "outputId": "52e2f028-69ad-4f29-94e6-36ffeed673d1"
      },
      "execution_count": 19,
      "outputs": [
        {
          "output_type": "stream",
          "name": "stdout",
          "text": [
            "1688/1688 [==============================] - 195s 51ms/step - loss: 0.2422 - accuracy: 0.9386 - val_loss: 0.1289 - val_accuracy: 0.9647\n",
            "Точность работы на тестовых данных: 95.85%\n"
          ]
        }
      ]
    },
    {
      "cell_type": "code",
      "source": [
        "plt.plot(history.history['loss'], label='loss')\n",
        "plt.plot(history.history['val_loss'], label='val_loss')\n",
        "plt.legend()\n",
        "plt.grid()"
      ],
      "metadata": {
        "id": "08DsEafYUijs",
        "outputId": "bcede267-8669-486c-f89a-b39ba713d1e0",
        "colab": {
          "base_uri": "https://localhost:8080/",
          "height": 265
        }
      },
      "execution_count": null,
      "outputs": [
        {
          "output_type": "display_data",
          "data": {
            "text/plain": [
              "<Figure size 432x288 with 1 Axes>"
            ],
            "image/png": "[encoded data removed]"
          },
          "metadata": {
            "needs_background": "light"
          }
        }
      ]
    },
    {
      "cell_type": "code",
      "source": [
        "model4.save('model_10000.h5')"
      ],
      "metadata": {
        "id": "dI-fWhALctjO"
      },
      "execution_count": null,
      "outputs": []
    }
  ]
}