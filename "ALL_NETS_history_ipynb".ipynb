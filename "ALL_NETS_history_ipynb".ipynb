{
  "nbformat": 4,
  "nbformat_minor": 0,
  "metadata": {
    "colab": {
      "name": "\"ALL_NETS_history.ipynb\"",
      "provenance": [],
      "collapsed_sections": [],
      "authorship_tag": "ABX9TyOmyW5ITh4NBocDQh6EO4Mp",
      "include_colab_link": true
    },
    "kernelspec": {
      "name": "python3",
      "display_name": "Python 3"
    },
    "language_info": {
      "name": "python"
    }
  },
  "cells": [
    {
      "cell_type": "markdown",
      "metadata": {
        "id": "view-in-github",
        "colab_type": "text"
      },
      "source": [
        "<a href=\"https://colab.research.google.com/github/helenross636/magic_season/blob/main/%22ALL_NETS_history_ipynb%22.ipynb\" target=\"_parent\"><img src=\"https://colab.research.google.com/assets/colab-badge.svg\" alt=\"Open In Colab\"/></a>"
      ]
    },
    {
      "cell_type": "code",
      "execution_count": 12,
      "metadata": {
        "id": "azstYevGyFja"
      },
      "outputs": [],
      "source": [
        "import numpy as np\n",
        "from keras.datasets import mnist\n",
        "from keras.models import Sequential\n",
        "from keras.layers import Dense\n",
        "from keras.utils import np_utils\n",
        "import matplotlib.pyplot as plt\n",
        "from tensorflow import keras"
      ]
    },
    {
      "cell_type": "code",
      "source": [
        "# Устанавливаем seed для повторяемости результатов\n",
        "np.random.seed(42)\n",
        "# Загружаем данные\n",
        "(X_train, y_train), (X_test, y_test) = mnist.load_data()\n",
        "\n",
        "# Преобразование размерности изображений\n",
        "X_train = X_train.reshape(60000, 784)\n",
        "X_test = X_test.reshape(10000, 784)\n",
        "# Нормализация данных\n",
        "X_train = X_train.astype('float32')\n",
        "X_test = X_test.astype('float32')\n",
        "X_train /= 255\n",
        "X_test /= 255\n",
        "\n",
        "# Преобразуем метки в категории\n",
        "Y_train = np_utils.to_categorical(y_train, 10)\n",
        "Y_test = np_utils.to_categorical(y_test, 10)"
      ],
      "metadata": {
        "id": "YJLjyHrvyLCH"
      },
      "execution_count": 11,
      "outputs": []
    },
    {
      "cell_type": "markdown",
      "source": [
        "# **30 НЕЙРОНОВ**"
      ],
      "metadata": {
        "id": "fVDXo4L5yOAR"
      }
    },
    {
      "cell_type": "code",
      "source": [
        "# Создаем последовательную модель\n",
        "model = Sequential();\n",
        "# Добавляем уровни сети\n",
        "x = keras.Input(shape=(784,))\n",
        "y = Dense(784, activation=\"softmax\", name=\"In_layer\")(x)\n",
        "model(inputs=y)\n",
        "#скрытый слой 30 нейроoнов\n",
        "model.add(Dense(30, activation=\"relu\", kernel_initializer=\"normal\"))\n",
        "#выходной слойц 10 нейронов\n",
        "model.add(Dense(10, activation=\"softmax\", kernel_initializer=\"normal\"))\n",
        "\n",
        "# Компилируем модель\n",
        "model.compile(loss=\"categorical_crossentropy\", optimizer=\"adam\", metrics=[\"accuracy\"])\n",
        "\n",
        "print(model.summary())\n",
        "\n",
        "# Обучаем сеть\n",
        "#Batch size – количество обучающих примеров за одну итерацию.\n",
        "history = model.fit(X_train, Y_train, batch_size=128, epochs=300, validation_split=0.1);\n",
        "\n",
        "# Оцениваем качество обучения сети на тестовых данных\n",
        "scores = model.evaluate(X_test, Y_test, verbose=0);\n",
        "print(\"Точность работы на тестовых данных: %.2f%%\" % (scores[1]*100))"
      ],
      "metadata": {
        "colab": {
          "base_uri": "https://localhost:8080/",
          "height": 409
        },
        "id": "zpZvbskkyLLb",
        "outputId": "bfb69f96-85df-41fd-cb18-8bca27b37d2f"
      },
      "execution_count": 24,
      "outputs": [
        {
          "output_type": "error",
          "ename": "ValueError",
          "evalue": "ignored",
          "traceback": [
            "\u001b[0;31m---------------------------------------------------------------------------\u001b[0m",
            "\u001b[0;31mValueError\u001b[0m                                Traceback (most recent call last)",
            "\u001b[0;32m<ipython-input-24-47e8931e1086>\u001b[0m in \u001b[0;36m<module>\u001b[0;34m()\u001b[0m\n\u001b[1;32m     12\u001b[0m \u001b[0;31m# Компилируем модель\u001b[0m\u001b[0;34m\u001b[0m\u001b[0;34m\u001b[0m\u001b[0;34m\u001b[0m\u001b[0m\n\u001b[1;32m     13\u001b[0m \u001b[0mmodel\u001b[0m\u001b[0;34m.\u001b[0m\u001b[0mcompile\u001b[0m\u001b[0;34m(\u001b[0m\u001b[0mloss\u001b[0m\u001b[0;34m=\u001b[0m\u001b[0;34m\"categorical_crossentropy\"\u001b[0m\u001b[0;34m,\u001b[0m \u001b[0moptimizer\u001b[0m\u001b[0;34m=\u001b[0m\u001b[0;34m\"adam\"\u001b[0m\u001b[0;34m,\u001b[0m \u001b[0mmetrics\u001b[0m\u001b[0;34m=\u001b[0m\u001b[0;34m[\u001b[0m\u001b[0;34m\"accuracy\"\u001b[0m\u001b[0;34m]\u001b[0m\u001b[0;34m)\u001b[0m\u001b[0;34m\u001b[0m\u001b[0;34m\u001b[0m\u001b[0m\n\u001b[0;32m---> 14\u001b[0;31m \u001b[0mprint\u001b[0m\u001b[0;34m(\u001b[0m\u001b[0mmodel\u001b[0m\u001b[0;34m.\u001b[0m\u001b[0msummary\u001b[0m\u001b[0;34m(\u001b[0m\u001b[0;34m)\u001b[0m\u001b[0;34m)\u001b[0m\u001b[0;34m\u001b[0m\u001b[0;34m\u001b[0m\u001b[0m\n\u001b[0m\u001b[1;32m     15\u001b[0m \u001b[0;34m\u001b[0m\u001b[0m\n\u001b[1;32m     16\u001b[0m \u001b[0;31m# Обучаем сеть\u001b[0m\u001b[0;34m\u001b[0m\u001b[0;34m\u001b[0m\u001b[0;34m\u001b[0m\u001b[0m\n",
            "\u001b[0;32m/usr/local/lib/python3.7/dist-packages/keras/engine/training.py\u001b[0m in \u001b[0;36msummary\u001b[0;34m(self, line_length, positions, print_fn, expand_nested, show_trainable)\u001b[0m\n\u001b[1;32m   2774\u001b[0m     \u001b[0;32mif\u001b[0m \u001b[0;32mnot\u001b[0m \u001b[0mself\u001b[0m\u001b[0;34m.\u001b[0m\u001b[0mbuilt\u001b[0m\u001b[0;34m:\u001b[0m\u001b[0;34m\u001b[0m\u001b[0;34m\u001b[0m\u001b[0m\n\u001b[1;32m   2775\u001b[0m       raise ValueError(\n\u001b[0;32m-> 2776\u001b[0;31m           \u001b[0;34m'This model has not yet been built. '\u001b[0m\u001b[0;34m\u001b[0m\u001b[0;34m\u001b[0m\u001b[0m\n\u001b[0m\u001b[1;32m   2777\u001b[0m           \u001b[0;34m'Build the model first by calling `build()` or by calling '\u001b[0m\u001b[0;34m\u001b[0m\u001b[0;34m\u001b[0m\u001b[0m\n\u001b[1;32m   2778\u001b[0m           'the model on a batch of data.')\n",
            "\u001b[0;31mValueError\u001b[0m: This model has not yet been built. Build the model first by calling `build()` or by calling the model on a batch of data."
          ]
        }
      ]
    },
    {
      "cell_type": "code",
      "source": [
        "plt.plot(history.history['loss'], label='loss')\n",
        "plt.plot(history.history['val_loss'], label='val_loss')\n",
        "plt.legend()\n",
        "plt.grid()"
      ],
      "metadata": {
        "id": "xPcPHJ_B9CQ5",
        "outputId": "cc1d35c1-8c51-4f82-a1d9-869a662c3de6",
        "colab": {
          "base_uri": "https://localhost:8080/",
          "height": 265
        }
      },
      "execution_count": null,
      "outputs": [
        {
          "output_type": "display_data",
          "data": {
            "text/plain": [
              "<Figure size 432x288 with 1 Axes>"
            ],
            "image/png": "[encoded data removed]"
          },
          "metadata": {
            "needs_background": "light"
          }
        }
      ]
    },
    {
      "cell_type": "code",
      "source": [
        "model.save('model_30n_2k.h5')"
      ],
      "metadata": {
        "id": "DKDfPUzwP1Mz"
      },
      "execution_count": null,
      "outputs": []
    },
    {
      "cell_type": "markdown",
      "source": [
        "# **1'500 НЕЙРОНОВ**"
      ],
      "metadata": {
        "id": "A2_Ue6Q6ydMM"
      }
    },
    {
      "cell_type": "code",
      "source": [
        "# Создаем последовательную модель\n",
        "model2 = Sequential();\n",
        "\n",
        "# Добавляем уровни сети\n",
        "model2.add(InputLayer(input_shape=(784,)))\n",
        "#скрытый слой 1500 нейронов\n",
        "model2.add(Dense(1500, activation=\"relu\", kernel_initializer=\"normal\"))\n",
        "#выходной слой 10 нейронов\n",
        "model2.add(Dense(10, activation=\"softmax\", kernel_initializer=\"normal\"))\n",
        "\n",
        "# Компилируем модель\n",
        "model2.compile(loss=\"categorical_crossentropy\", optimizer=\"adam\", metrics=[\"accuracy\"])\n",
        "\n",
        "print(model2.summary())\n",
        "\n",
        "# Обучаем сеть\n",
        "#Batch size – количество обучающих примеров за одну итерацию.\n",
        "history = model2.fit(X_train, Y_train, validation_split=0.1, batch_size=128, epochs=1);\n",
        "\n",
        "# Оцениваем качество обучения сети на тестовых данных\n",
        "scores = model2.evaluate(X_test, Y_test, verbose=0);\n",
        "print(\"Точность работы на тестовых данных: %.2f%%\" % (scores[1]*100))"
      ],
      "metadata": {
        "colab": {
          "base_uri": "https://localhost:8080/"
        },
        "id": "FObSwSalyLOJ",
        "outputId": "0c1ffbdf-fa6a-4f33-d087-c65d22e59cb8"
      },
      "execution_count": null,
      "outputs": [
        {
          "output_type": "stream",
          "name": "stdout",
          "text": [
            "Model: \"sequential_16\"\n",
            "_________________________________________________________________\n",
            " Layer (type)                Output Shape              Param #   \n",
            "=================================================================\n",
            " dense_23 (Dense)            (None, 1500)              1177500   \n",
            "                                                                 \n",
            " dense_24 (Dense)            (None, 10)                15010     \n",
            "                                                                 \n",
            "=================================================================\n",
            "Total params: 1,192,510\n",
            "Trainable params: 1,192,510\n",
            "Non-trainable params: 0\n",
            "_________________________________________________________________\n",
            "None\n",
            "422/422 [==============================] - 10s 23ms/step - loss: 0.2275 - accuracy: 0.9330 - val_loss: 0.0951 - val_accuracy: 0.9727\n",
            "Точность работы на тестовых данных: 97.06%\n"
          ]
        }
      ]
    },
    {
      "cell_type": "code",
      "source": [
        "plt.plot(history.history['loss'], label='loss')\n",
        "plt.plot(history.history['val_loss'], label='val_loss')\n",
        "plt.legend()\n",
        "plt.grid()"
      ],
      "metadata": {
        "id": "mAyQeZ_VSgBT",
        "outputId": "413f2052-4802-40bd-d32b-cc9a58899ed2",
        "colab": {
          "base_uri": "https://localhost:8080/",
          "height": 265
        }
      },
      "execution_count": null,
      "outputs": [
        {
          "output_type": "display_data",
          "data": {
            "text/plain": [
              "<Figure size 432x288 with 1 Axes>"
            ],
            "image/png": "[encoded data removed]"
          },
          "metadata": {
            "needs_background": "light"
          }
        }
      ]
    },
    {
      "cell_type": "code",
      "source": [
        "model2.save('model_1500.h5')"
      ],
      "metadata": {
        "id": "dFRa_3V67b1u"
      },
      "execution_count": null,
      "outputs": []
    },
    {
      "cell_type": "markdown",
      "source": [
        "# **5'000 **Текст, выделенный полужирным шрифтом** НЕЙРОНОВ**"
      ],
      "metadata": {
        "id": "AnAPKIiByhIb"
      }
    },
    {
      "cell_type": "code",
      "source": [
        "# Создаем последовательную модель\n",
        "model3 = Sequential();\n",
        "\n",
        "# Добавляем уровни сети\n",
        "model3.add(InputLayer(input_shape=(784,)))\n",
        "#скрытый слой 1500 нейронов\n",
        "model3.add(Dense(5000, activation=\"relu\", kernel_initializer=\"normal\"))\n",
        "#выходной слой 10 нейронов\n",
        "model3.add(Dense(10, activation=\"softmax\", kernel_initializer=\"normal\"))\n",
        "\n",
        "# Компилируем модель\n",
        "model3.compile(loss=\"categorical_crossentropy\", optimizer=\"adam\", metrics=[\"accuracy\"])\n",
        "\n",
        "print(model3.summary())\n",
        "\n",
        "# Обучаем сеть\n",
        "#Batch size – количество обучающих примеров за одну итерацию.\n",
        "history = model3.fit(X_train, Y_train, validation_split=0.1, batch_size=128, epochs=1);\n",
        "\n",
        "# Оцениваем качество обучения сети на тестовых данных\n",
        "scores = model3.evaluate(X_test, Y_test, verbose=0);\n",
        "print(\"Точность работы на тестовых данных: %.2f%%\" % (scores[1]*100))"
      ],
      "metadata": {
        "colab": {
          "base_uri": "https://localhost:8080/"
        },
        "id": "tqQiTsG0yLQ3",
        "outputId": "97881f9f-b90c-434b-adfb-e77b7f2c34da"
      },
      "execution_count": null,
      "outputs": [
        {
          "output_type": "stream",
          "name": "stdout",
          "text": [
            "Model: \"sequential_7\"\n",
            "_________________________________________________________________\n",
            " Layer (type)                Output Shape              Param #   \n",
            "=================================================================\n",
            " dense_12 (Dense)            (None, 5000)              3925000   \n",
            "                                                                 \n",
            " dense_13 (Dense)            (None, 10)                50010     \n",
            "                                                                 \n",
            "=================================================================\n",
            "Total params: 3,975,010\n",
            "Trainable params: 3,975,010\n",
            "Non-trainable params: 0\n",
            "_________________________________________________________________\n",
            "None\n",
            "422/422 [==============================] - 27s 64ms/step - loss: 0.2215 - accuracy: 0.9347 - val_loss: 0.1054 - val_accuracy: 0.9687\n",
            "Точность работы на тестовых данных: 96.47%\n"
          ]
        }
      ]
    },
    {
      "cell_type": "code",
      "source": [
        "plt.plot(history.history['loss'], label='loss')\n",
        "plt.plot(history.history['val_loss'], label='val_loss')\n",
        "plt.legend()\n",
        "plt.grid()"
      ],
      "metadata": {
        "id": "tpaYCyQkTllm",
        "outputId": "462db660-aca5-4407-caea-5e62a9459b29",
        "colab": {
          "base_uri": "https://localhost:8080/",
          "height": 265
        }
      },
      "execution_count": null,
      "outputs": [
        {
          "output_type": "display_data",
          "data": {
            "text/plain": [
              "<Figure size 432x288 with 1 Axes>"
            ],
            "image/png": "[encoded data removed]"
          },
          "metadata": {
            "needs_background": "light"
          }
        }
      ]
    },
    {
      "cell_type": "code",
      "source": [
        "model3.save('model_5000.h5')"
      ],
      "metadata": {
        "id": "hBBkOjkJ7oYr"
      },
      "execution_count": null,
      "outputs": []
    },
    {
      "cell_type": "markdown",
      "source": [
        "# **10'000 НЕЙРОНОВ**"
      ],
      "metadata": {
        "id": "nYnb-H8Yy2-U"
      }
    },
    {
      "cell_type": "code",
      "source": [
        "# Создаем последовательную модель\n",
        "model4 = Sequential();\n",
        "\n",
        "# Добавляем уровни сети\n",
        "model4.add(InputLayer(input_shape=(784,)))\n",
        "#скрытый слой 1500 нейронов\n",
        "model4.add(Dense(10000, activation=\"relu\", kernel_initializer=\"normal\"))\n",
        "#выходной слой 10 нейронов\n",
        "model4.add(Dense(10, activation=\"softmax\", kernel_initializer=\"normal\"))\n",
        "\n",
        "# Компилируем модель\n",
        "model4.compile(loss=\"categorical_crossentropy\", optimizer=\"adam\", metrics=[\"accuracy\"])\n",
        "\n",
        "print(model4.summary())\n",
        "\n",
        "# Обучаем сеть\n",
        "#Batch size – количество обучающих примеров за одну итерацию.\n",
        "history = model4.fit(X_train, Y_train, batch_size=128, epochs=1, validation_split=0.1);\n",
        "\n",
        "# Оцениваем качество обучения сети на тестовых данных\n",
        "scores = model4.evaluate(X_test, Y_test, verbose=0);\n",
        "print(\"Точность работы на тестовых данных: %.2f%%\" % (scores[1]*100))"
      ],
      "metadata": {
        "colab": {
          "base_uri": "https://localhost:8080/"
        },
        "id": "MpQfbTncyLUh",
        "outputId": "50c7d4bf-fe86-4e24-c4f5-940dd527dcaa"
      },
      "execution_count": null,
      "outputs": [
        {
          "output_type": "stream",
          "name": "stdout",
          "text": [
            "Model: \"sequential_9\"\n",
            "_________________________________________________________________\n",
            " Layer (type)                Output Shape              Param #   \n",
            "=================================================================\n",
            " dense_16 (Dense)            (None, 10000)             7850000   \n",
            "                                                                 \n",
            " dense_17 (Dense)            (None, 10)                100010    \n",
            "                                                                 \n",
            "=================================================================\n",
            "Total params: 7,950,010\n",
            "Trainable params: 7,950,010\n",
            "Non-trainable params: 0\n",
            "_________________________________________________________________\n",
            "None\n",
            "422/422 [==============================] - 52s 122ms/step - loss: 0.2791 - accuracy: 0.9330 - val_loss: 0.1350 - val_accuracy: 0.9607\n",
            "Точность работы на тестовых данных: 95.64%\n"
          ]
        }
      ]
    },
    {
      "cell_type": "code",
      "source": [
        "plt.plot(history.history['loss'], label='loss')\n",
        "plt.plot(history.history['val_loss'], label='val_loss')\n",
        "plt.legend()\n",
        "plt.grid()"
      ],
      "metadata": {
        "id": "08DsEafYUijs",
        "outputId": "0c15c249-3659-45b2-eaef-eaa17bb18e16",
        "colab": {
          "base_uri": "https://localhost:8080/",
          "height": 265
        }
      },
      "execution_count": null,
      "outputs": [
        {
          "output_type": "display_data",
          "data": {
            "text/plain": [
              "<Figure size 432x288 with 1 Axes>"
            ],
            "image/png": "[encoded data removed]"
          },
          "metadata": {
            "needs_background": "light"
          }
        }
      ]
    },
    {
      "cell_type": "code",
      "source": [
        ""
      ],
      "metadata": {
        "id": "4PpYT-kVE9zw"
      },
      "execution_count": null,
      "outputs": []
    },
    {
      "cell_type": "code",
      "source": [
        "model4.save('model_10000.h5')"
      ],
      "metadata": {
        "id": "dI-fWhALctjO"
      },
      "execution_count": null,
      "outputs": []
    }
  ]
}